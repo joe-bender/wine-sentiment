{
 "cells": [
  {
   "cell_type": "markdown",
   "metadata": {},
   "source": [
    "This notebook shows how to use a simple technique involving word counts to build a model that predicts the sentiment of wine reviews (positive vs negative). The review dataset comes from [this Kaggle page](https://www.kaggle.com/zynicide/wine-reviews) and includes the text of 150,000 wine reviews from [WineEnthusiast](https://www.winemag.com/)."
   ]
  },
  {
   "cell_type": "markdown",
   "metadata": {},
   "source": [
    "The first step is to import some libraries that we'll use later:"
   ]
  },
  {
   "cell_type": "code",
   "execution_count": 1,
   "metadata": {},
   "outputs": [],
   "source": [
    "import math\n",
    "import random\n",
    "import numpy as np\n",
    "import matplotlib.pyplot as plt\n",
    "import seaborn as sns\n",
    "import pandas as pd\n",
    "from sklearn.model_selection import train_test_split"
   ]
  },
  {
   "cell_type": "markdown",
   "metadata": {},
   "source": [
    "We'll start by loading the data into a Pandas dataframe. Pandas has a convenient method for creating a dataframe from a csv file:"
   ]
  },
  {
   "cell_type": "code",
   "execution_count": 2,
   "metadata": {},
   "outputs": [],
   "source": [
    "df = pd.read_csv('winemag-data_first150k.csv')"
   ]
  },
  {
   "cell_type": "markdown",
   "metadata": {},
   "source": [
    "Let's take a look at the first few rows of the dataframe:"
   ]
  },
  {
   "cell_type": "code",
   "execution_count": 3,
   "metadata": {},
   "outputs": [
    {
     "data": {
      "text/html": [
       "<div>\n",
       "<style scoped>\n",
       "    .dataframe tbody tr th:only-of-type {\n",
       "        vertical-align: middle;\n",
       "    }\n",
       "\n",
       "    .dataframe tbody tr th {\n",
       "        vertical-align: top;\n",
       "    }\n",
       "\n",
       "    .dataframe thead th {\n",
       "        text-align: right;\n",
       "    }\n",
       "</style>\n",
       "<table border=\"1\" class=\"dataframe\">\n",
       "  <thead>\n",
       "    <tr style=\"text-align: right;\">\n",
       "      <th></th>\n",
       "      <th>Unnamed: 0</th>\n",
       "      <th>country</th>\n",
       "      <th>description</th>\n",
       "      <th>designation</th>\n",
       "      <th>points</th>\n",
       "      <th>price</th>\n",
       "      <th>province</th>\n",
       "      <th>region_1</th>\n",
       "      <th>region_2</th>\n",
       "      <th>variety</th>\n",
       "      <th>winery</th>\n",
       "    </tr>\n",
       "  </thead>\n",
       "  <tbody>\n",
       "    <tr>\n",
       "      <th>0</th>\n",
       "      <td>0</td>\n",
       "      <td>US</td>\n",
       "      <td>This tremendous 100% varietal wine hails from ...</td>\n",
       "      <td>Martha's Vineyard</td>\n",
       "      <td>96</td>\n",
       "      <td>235.0</td>\n",
       "      <td>California</td>\n",
       "      <td>Napa Valley</td>\n",
       "      <td>Napa</td>\n",
       "      <td>Cabernet Sauvignon</td>\n",
       "      <td>Heitz</td>\n",
       "    </tr>\n",
       "    <tr>\n",
       "      <th>1</th>\n",
       "      <td>1</td>\n",
       "      <td>Spain</td>\n",
       "      <td>Ripe aromas of fig, blackberry and cassis are ...</td>\n",
       "      <td>Carodorum Selección Especial Reserva</td>\n",
       "      <td>96</td>\n",
       "      <td>110.0</td>\n",
       "      <td>Northern Spain</td>\n",
       "      <td>Toro</td>\n",
       "      <td>NaN</td>\n",
       "      <td>Tinta de Toro</td>\n",
       "      <td>Bodega Carmen Rodríguez</td>\n",
       "    </tr>\n",
       "    <tr>\n",
       "      <th>2</th>\n",
       "      <td>2</td>\n",
       "      <td>US</td>\n",
       "      <td>Mac Watson honors the memory of a wine once ma...</td>\n",
       "      <td>Special Selected Late Harvest</td>\n",
       "      <td>96</td>\n",
       "      <td>90.0</td>\n",
       "      <td>California</td>\n",
       "      <td>Knights Valley</td>\n",
       "      <td>Sonoma</td>\n",
       "      <td>Sauvignon Blanc</td>\n",
       "      <td>Macauley</td>\n",
       "    </tr>\n",
       "    <tr>\n",
       "      <th>3</th>\n",
       "      <td>3</td>\n",
       "      <td>US</td>\n",
       "      <td>This spent 20 months in 30% new French oak, an...</td>\n",
       "      <td>Reserve</td>\n",
       "      <td>96</td>\n",
       "      <td>65.0</td>\n",
       "      <td>Oregon</td>\n",
       "      <td>Willamette Valley</td>\n",
       "      <td>Willamette Valley</td>\n",
       "      <td>Pinot Noir</td>\n",
       "      <td>Ponzi</td>\n",
       "    </tr>\n",
       "    <tr>\n",
       "      <th>4</th>\n",
       "      <td>4</td>\n",
       "      <td>France</td>\n",
       "      <td>This is the top wine from La Bégude, named aft...</td>\n",
       "      <td>La Brûlade</td>\n",
       "      <td>95</td>\n",
       "      <td>66.0</td>\n",
       "      <td>Provence</td>\n",
       "      <td>Bandol</td>\n",
       "      <td>NaN</td>\n",
       "      <td>Provence red blend</td>\n",
       "      <td>Domaine de la Bégude</td>\n",
       "    </tr>\n",
       "  </tbody>\n",
       "</table>\n",
       "</div>"
      ],
      "text/plain": [
       "   Unnamed: 0 country                                        description  \\\n",
       "0           0      US  This tremendous 100% varietal wine hails from ...   \n",
       "1           1   Spain  Ripe aromas of fig, blackberry and cassis are ...   \n",
       "2           2      US  Mac Watson honors the memory of a wine once ma...   \n",
       "3           3      US  This spent 20 months in 30% new French oak, an...   \n",
       "4           4  France  This is the top wine from La Bégude, named aft...   \n",
       "\n",
       "                            designation  points  price        province  \\\n",
       "0                     Martha's Vineyard      96  235.0      California   \n",
       "1  Carodorum Selección Especial Reserva      96  110.0  Northern Spain   \n",
       "2         Special Selected Late Harvest      96   90.0      California   \n",
       "3                               Reserve      96   65.0          Oregon   \n",
       "4                            La Brûlade      95   66.0        Provence   \n",
       "\n",
       "            region_1           region_2             variety  \\\n",
       "0        Napa Valley               Napa  Cabernet Sauvignon   \n",
       "1               Toro                NaN       Tinta de Toro   \n",
       "2     Knights Valley             Sonoma     Sauvignon Blanc   \n",
       "3  Willamette Valley  Willamette Valley          Pinot Noir   \n",
       "4             Bandol                NaN  Provence red blend   \n",
       "\n",
       "                    winery  \n",
       "0                    Heitz  \n",
       "1  Bodega Carmen Rodríguez  \n",
       "2                 Macauley  \n",
       "3                    Ponzi  \n",
       "4     Domaine de la Bégude  "
      ]
     },
     "execution_count": 3,
     "metadata": {},
     "output_type": "execute_result"
    }
   ],
   "source": [
    "df.head()"
   ]
  },
  {
   "cell_type": "markdown",
   "metadata": {},
   "source": [
    "There is a lot of information in this dataframe. The 'description' column is the key to an NLP project because it contains blocks of text that we can process. The 'points' and 'price' columns contain numeric values that could used in a regression problem, mapping text to continuous values. The rest of the columns contain text labels that could be used in a categorization project, mapping text to various labels. For example, we could predict a wine's variety or the country it came from. "
   ]
  },
  {
   "cell_type": "markdown",
   "metadata": {},
   "source": [
    "But we're actually going to use the 'points' column to create a binary classification problem (predicting between two possible categories). The first step is to get rid of the columns we don't need. We can do this by redefining the dataframe with only the columns we want to keep:"
   ]
  },
  {
   "cell_type": "code",
   "execution_count": 4,
   "metadata": {},
   "outputs": [],
   "source": [
    "df = df[['description', 'points']]"
   ]
  },
  {
   "cell_type": "markdown",
   "metadata": {},
   "source": [
    "And this is what the dataframe now looks like:"
   ]
  },
  {
   "cell_type": "code",
   "execution_count": 5,
   "metadata": {},
   "outputs": [
    {
     "data": {
      "text/html": [
       "<div>\n",
       "<style scoped>\n",
       "    .dataframe tbody tr th:only-of-type {\n",
       "        vertical-align: middle;\n",
       "    }\n",
       "\n",
       "    .dataframe tbody tr th {\n",
       "        vertical-align: top;\n",
       "    }\n",
       "\n",
       "    .dataframe thead th {\n",
       "        text-align: right;\n",
       "    }\n",
       "</style>\n",
       "<table border=\"1\" class=\"dataframe\">\n",
       "  <thead>\n",
       "    <tr style=\"text-align: right;\">\n",
       "      <th></th>\n",
       "      <th>description</th>\n",
       "      <th>points</th>\n",
       "    </tr>\n",
       "  </thead>\n",
       "  <tbody>\n",
       "    <tr>\n",
       "      <th>0</th>\n",
       "      <td>This tremendous 100% varietal wine hails from ...</td>\n",
       "      <td>96</td>\n",
       "    </tr>\n",
       "    <tr>\n",
       "      <th>1</th>\n",
       "      <td>Ripe aromas of fig, blackberry and cassis are ...</td>\n",
       "      <td>96</td>\n",
       "    </tr>\n",
       "    <tr>\n",
       "      <th>2</th>\n",
       "      <td>Mac Watson honors the memory of a wine once ma...</td>\n",
       "      <td>96</td>\n",
       "    </tr>\n",
       "    <tr>\n",
       "      <th>3</th>\n",
       "      <td>This spent 20 months in 30% new French oak, an...</td>\n",
       "      <td>96</td>\n",
       "    </tr>\n",
       "    <tr>\n",
       "      <th>4</th>\n",
       "      <td>This is the top wine from La Bégude, named aft...</td>\n",
       "      <td>95</td>\n",
       "    </tr>\n",
       "  </tbody>\n",
       "</table>\n",
       "</div>"
      ],
      "text/plain": [
       "                                         description  points\n",
       "0  This tremendous 100% varietal wine hails from ...      96\n",
       "1  Ripe aromas of fig, blackberry and cassis are ...      96\n",
       "2  Mac Watson honors the memory of a wine once ma...      96\n",
       "3  This spent 20 months in 30% new French oak, an...      96\n",
       "4  This is the top wine from La Bégude, named aft...      95"
      ]
     },
     "execution_count": 5,
     "metadata": {},
     "output_type": "execute_result"
    }
   ],
   "source": [
    "df.head()"
   ]
  },
  {
   "cell_type": "markdown",
   "metadata": {},
   "source": [
    "It would be nice if we could see the full text of the reviews. They are not very long so they shouldn't take up too much space on the page. We can do this by changing a display setting in Pandas:"
   ]
  },
  {
   "cell_type": "code",
   "execution_count": 6,
   "metadata": {},
   "outputs": [],
   "source": [
    "pd.set_option('display.max_colwidth', -1)"
   ]
  },
  {
   "cell_type": "markdown",
   "metadata": {},
   "source": [
    "And now we can see the full reviews:"
   ]
  },
  {
   "cell_type": "code",
   "execution_count": 7,
   "metadata": {},
   "outputs": [
    {
     "data": {
      "text/html": [
       "<div>\n",
       "<style scoped>\n",
       "    .dataframe tbody tr th:only-of-type {\n",
       "        vertical-align: middle;\n",
       "    }\n",
       "\n",
       "    .dataframe tbody tr th {\n",
       "        vertical-align: top;\n",
       "    }\n",
       "\n",
       "    .dataframe thead th {\n",
       "        text-align: right;\n",
       "    }\n",
       "</style>\n",
       "<table border=\"1\" class=\"dataframe\">\n",
       "  <thead>\n",
       "    <tr style=\"text-align: right;\">\n",
       "      <th></th>\n",
       "      <th>description</th>\n",
       "      <th>points</th>\n",
       "    </tr>\n",
       "  </thead>\n",
       "  <tbody>\n",
       "    <tr>\n",
       "      <th>0</th>\n",
       "      <td>This tremendous 100% varietal wine hails from Oakville and was aged over three years in oak. Juicy red-cherry fruit and a compelling hint of caramel greet the palate, framed by elegant, fine tannins and a subtle minty tone in the background. Balanced and rewarding from start to finish, it has years ahead of it to develop further nuance. Enjoy 2022–2030.</td>\n",
       "      <td>96</td>\n",
       "    </tr>\n",
       "    <tr>\n",
       "      <th>1</th>\n",
       "      <td>Ripe aromas of fig, blackberry and cassis are softened and sweetened by a slathering of oaky chocolate and vanilla. This is full, layered, intense and cushioned on the palate, with rich flavors of chocolaty black fruits and baking spices. A toasty, everlasting finish is heady but ideally balanced. Drink through 2023.</td>\n",
       "      <td>96</td>\n",
       "    </tr>\n",
       "    <tr>\n",
       "      <th>2</th>\n",
       "      <td>Mac Watson honors the memory of a wine once made by his mother in this tremendously delicious, balanced and complex botrytised white. Dark gold in color, it layers toasted hazelnut, pear compote and orange peel flavors, reveling in the succulence of its 122 g/L of residual sugar.</td>\n",
       "      <td>96</td>\n",
       "    </tr>\n",
       "    <tr>\n",
       "      <th>3</th>\n",
       "      <td>This spent 20 months in 30% new French oak, and incorporates fruit from Ponzi's Aurora, Abetina and Madrona vineyards, among others. Aromatic, dense and toasty, it deftly blends aromas and flavors of toast, cigar box, blackberry, black cherry, coffee and graphite. Tannins are polished to a fine sheen, and frame a finish loaded with dark chocolate and espresso. Drink now through 2032.</td>\n",
       "      <td>96</td>\n",
       "    </tr>\n",
       "    <tr>\n",
       "      <th>4</th>\n",
       "      <td>This is the top wine from La Bégude, named after the highest point in the vineyard at 1200 feet. It has structure, density and considerable acidity that is still calming down. With 18 months in wood, the wine has developing an extra richness and concentration. Produced by the Tari family, formerly of Château Giscours in Margaux, it is a wine made for aging. Drink from 2020.</td>\n",
       "      <td>95</td>\n",
       "    </tr>\n",
       "  </tbody>\n",
       "</table>\n",
       "</div>"
      ],
      "text/plain": [
       "                                                                                                                                                                                                                                                                                                                                                                                          description  \\\n",
       "0  This tremendous 100% varietal wine hails from Oakville and was aged over three years in oak. Juicy red-cherry fruit and a compelling hint of caramel greet the palate, framed by elegant, fine tannins and a subtle minty tone in the background. Balanced and rewarding from start to finish, it has years ahead of it to develop further nuance. Enjoy 2022–2030.                                  \n",
       "1  Ripe aromas of fig, blackberry and cassis are softened and sweetened by a slathering of oaky chocolate and vanilla. This is full, layered, intense and cushioned on the palate, with rich flavors of chocolaty black fruits and baking spices. A toasty, everlasting finish is heady but ideally balanced. Drink through 2023.                                                                       \n",
       "2  Mac Watson honors the memory of a wine once made by his mother in this tremendously delicious, balanced and complex botrytised white. Dark gold in color, it layers toasted hazelnut, pear compote and orange peel flavors, reveling in the succulence of its 122 g/L of residual sugar.                                                                                                             \n",
       "3  This spent 20 months in 30% new French oak, and incorporates fruit from Ponzi's Aurora, Abetina and Madrona vineyards, among others. Aromatic, dense and toasty, it deftly blends aromas and flavors of toast, cigar box, blackberry, black cherry, coffee and graphite. Tannins are polished to a fine sheen, and frame a finish loaded with dark chocolate and espresso. Drink now through 2032.   \n",
       "4  This is the top wine from La Bégude, named after the highest point in the vineyard at 1200 feet. It has structure, density and considerable acidity that is still calming down. With 18 months in wood, the wine has developing an extra richness and concentration. Produced by the Tari family, formerly of Château Giscours in Margaux, it is a wine made for aging. Drink from 2020.             \n",
       "\n",
       "   points  \n",
       "0  96      \n",
       "1  96      \n",
       "2  96      \n",
       "3  96      \n",
       "4  95      "
      ]
     },
     "execution_count": 7,
     "metadata": {},
     "output_type": "execute_result"
    }
   ],
   "source": [
    "df.head()"
   ]
  },
  {
   "cell_type": "markdown",
   "metadata": {},
   "source": [
    "Now that we've focused in on the important columns, we can work on creating a new column for sentiment based on the values in the 'points' column. I could try to predict the exact point rating for each review, but I'd rather turn this into a simpler problem. Let's look at the range of values in the 'points' column:"
   ]
  },
  {
   "cell_type": "code",
   "execution_count": 8,
   "metadata": {},
   "outputs": [
    {
     "data": {
      "text/plain": [
       "count    150930.000000\n",
       "mean     87.888418    \n",
       "std      3.222392     \n",
       "min      80.000000    \n",
       "25%      86.000000    \n",
       "50%      88.000000    \n",
       "75%      90.000000    \n",
       "max      100.000000   \n",
       "Name: points, dtype: float64"
      ]
     },
     "execution_count": 8,
     "metadata": {},
     "output_type": "execute_result"
    }
   ],
   "source": [
    "# show statistics about the 'points' column\n",
    "df['points'].describe()"
   ]
  },
  {
   "cell_type": "markdown",
   "metadata": {},
   "source": [
    "We can see that the point values range from 80 to 100 and have a mean of about 88. Most of the reviews have point ratings around that middle value, as we can see from a histogram of the values:"
   ]
  },
  {
   "cell_type": "code",
   "execution_count": 9,
   "metadata": {},
   "outputs": [
    {
     "data": {
      "image/png": "[encoded data removed]",
      "text/plain": [
       "<Figure size 432x288 with 1 Axes>"
      ]
     },
     "metadata": {
      "needs_background": "light"
     },
     "output_type": "display_data"
    }
   ],
   "source": [
    "# use 21 bins because there are 21 possible values (80-100)\n",
    "hist = df.hist(column='points', bins=21)"
   ]
  },
  {
   "cell_type": "markdown",
   "metadata": {},
   "source": [
    "The simplest way to split these into 'good' and 'bad' categories would be to sort them ascending by point value and mark the first half as 'bad' and the last half as 'good'. But most of the reviews are somewhere in the middle, making them hard to distinguish. It's not that interesting to predict exactly how average a wine will be, so let's just look at the extremes of 'very bad' and 'very good'. "
   ]
  },
  {
   "cell_type": "markdown",
   "metadata": {},
   "source": [
    "We can choose a number of reviews to take from both ends of the spectrum. Let's look at the total number of reviews:"
   ]
  },
  {
   "cell_type": "code",
   "execution_count": 10,
   "metadata": {},
   "outputs": [
    {
     "data": {
      "text/plain": [
       "150930"
      ]
     },
     "execution_count": 10,
     "metadata": {},
     "output_type": "execute_result"
    }
   ],
   "source": [
    "len(df)"
   ]
  },
  {
   "cell_type": "markdown",
   "metadata": {},
   "source": [
    "Before we go further, let's do a bit of cleaning to make sure we don't have any duplicate entries in the data. There's no reason to count the same review more than once:"
   ]
  },
  {
   "cell_type": "code",
   "execution_count": 11,
   "metadata": {},
   "outputs": [],
   "source": [
    "# remove any duplicate rows\n",
    "df = df.drop_duplicates()"
   ]
  },
  {
   "cell_type": "markdown",
   "metadata": {},
   "source": [
    "And now we can check the length of the dataframe again to see if we removed anything:"
   ]
  },
  {
   "cell_type": "code",
   "execution_count": 12,
   "metadata": {},
   "outputs": [
    {
     "data": {
      "text/plain": [
       "97831"
      ]
     },
     "execution_count": 12,
     "metadata": {},
     "output_type": "execute_result"
    }
   ],
   "source": [
    "len(df)"
   ]
  },
  {
   "cell_type": "markdown",
   "metadata": {},
   "source": [
    "It looks like there were a lot of duplicates in the data (over a third of the total rows). Now we know that each review is unique."
   ]
  },
  {
   "cell_type": "markdown",
   "metadata": {},
   "source": [
    "There are about 100,000 reviews, so if we take 10,000 from each end, we will probably get reviews with meaningful sentiment (extremely positive or negative)."
   ]
  },
  {
   "cell_type": "markdown",
   "metadata": {},
   "source": [
    "Let's sort the data by the 'points' column:"
   ]
  },
  {
   "cell_type": "code",
   "execution_count": 13,
   "metadata": {},
   "outputs": [],
   "source": [
    "df = df.sort_values('points')"
   ]
  },
  {
   "cell_type": "markdown",
   "metadata": {},
   "source": [
    "Now the worst reviews will be at the top, as we can see by looking at the first few rows:"
   ]
  },
  {
   "cell_type": "code",
   "execution_count": 14,
   "metadata": {},
   "outputs": [
    {
     "data": {
      "text/html": [
       "<div>\n",
       "<style scoped>\n",
       "    .dataframe tbody tr th:only-of-type {\n",
       "        vertical-align: middle;\n",
       "    }\n",
       "\n",
       "    .dataframe tbody tr th {\n",
       "        vertical-align: top;\n",
       "    }\n",
       "\n",
       "    .dataframe thead th {\n",
       "        text-align: right;\n",
       "    }\n",
       "</style>\n",
       "<table border=\"1\" class=\"dataframe\">\n",
       "  <thead>\n",
       "    <tr style=\"text-align: right;\">\n",
       "      <th></th>\n",
       "      <th>description</th>\n",
       "      <th>points</th>\n",
       "    </tr>\n",
       "  </thead>\n",
       "  <tbody>\n",
       "    <tr>\n",
       "      <th>19353</th>\n",
       "      <td>Barely acceptable. Dry, harsh and vegetal.</td>\n",
       "      <td>80</td>\n",
       "    </tr>\n",
       "    <tr>\n",
       "      <th>140172</th>\n",
       "      <td>Murky and damp smelling, with buttery strawberry flavors. Peppery and dry, with a raw, thin mouthfeel. Acceptable at a base level.</td>\n",
       "      <td>80</td>\n",
       "    </tr>\n",
       "    <tr>\n",
       "      <th>140173</th>\n",
       "      <td>Unpleasantly sharp in acids, and burdened with residual sugar, this is a hard wine to like.</td>\n",
       "      <td>80</td>\n",
       "    </tr>\n",
       "    <tr>\n",
       "      <th>140174</th>\n",
       "      <td>Despite 15-1/2 percent alcohol, this wine still has residual sugar! Think what the brix must have been at harvest. Drinks like a Port, which is a major fault for a dry table wine. Tasted twice, with consistent results.</td>\n",
       "      <td>80</td>\n",
       "    </tr>\n",
       "    <tr>\n",
       "      <th>140175</th>\n",
       "      <td>Heavily toasted, with lemon and burnt-toast aromas. The palate is extremely lemony and short of any lushness normally associated with Merlot. Has color but no ripeness. Proof that Casablanca is not great for Bordeaux varieties.</td>\n",
       "      <td>80</td>\n",
       "    </tr>\n",
       "  </tbody>\n",
       "</table>\n",
       "</div>"
      ],
      "text/plain": [
       "                                                                                                                                                                                                                                description  \\\n",
       "19353   Barely acceptable. Dry, harsh and vegetal.                                                                                                                                                                                            \n",
       "140172  Murky and damp smelling, with buttery strawberry flavors. Peppery and dry, with a raw, thin mouthfeel. Acceptable at a base level.                                                                                                    \n",
       "140173  Unpleasantly sharp in acids, and burdened with residual sugar, this is a hard wine to like.                                                                                                                                           \n",
       "140174  Despite 15-1/2 percent alcohol, this wine still has residual sugar! Think what the brix must have been at harvest. Drinks like a Port, which is a major fault for a dry table wine. Tasted twice, with consistent results.            \n",
       "140175  Heavily toasted, with lemon and burnt-toast aromas. The palate is extremely lemony and short of any lushness normally associated with Merlot. Has color but no ripeness. Proof that Casablanca is not great for Bordeaux varieties.   \n",
       "\n",
       "        points  \n",
       "19353   80      \n",
       "140172  80      \n",
       "140173  80      \n",
       "140174  80      \n",
       "140175  80      "
      ]
     },
     "execution_count": 14,
     "metadata": {},
     "output_type": "execute_result"
    }
   ],
   "source": [
    "df.head()"
   ]
  },
  {
   "cell_type": "markdown",
   "metadata": {},
   "source": [
    "And here are the best reviews, at the bottom:"
   ]
  },
  {
   "cell_type": "code",
   "execution_count": 15,
   "metadata": {},
   "outputs": [
    {
     "data": {
      "text/html": [
       "<div>\n",
       "<style scoped>\n",
       "    .dataframe tbody tr th:only-of-type {\n",
       "        vertical-align: middle;\n",
       "    }\n",
       "\n",
       "    .dataframe tbody tr th {\n",
       "        vertical-align: top;\n",
       "    }\n",
       "\n",
       "    .dataframe thead th {\n",
       "        text-align: right;\n",
       "    }\n",
       "</style>\n",
       "<table border=\"1\" class=\"dataframe\">\n",
       "  <thead>\n",
       "    <tr style=\"text-align: right;\">\n",
       "      <th></th>\n",
       "      <th>description</th>\n",
       "      <th>points</th>\n",
       "    </tr>\n",
       "  </thead>\n",
       "  <tbody>\n",
       "    <tr>\n",
       "      <th>19354</th>\n",
       "      <td>In a stunning lineup of Cayuse Syrahs, the En Chamberlin wins by a nose. It's smooth and silky, with a tongue-bending blend of flavors that include blood and iron, umami and salt, at first overtaking the pure fruit, but adding tremendous depth and power. The endless finish unfolds into a wine with exotic spices and complex layering.</td>\n",
       "      <td>100</td>\n",
       "    </tr>\n",
       "    <tr>\n",
       "      <th>19355</th>\n",
       "      <td>Not a Cellar Selection in the traditional sense of requiring additional aging, this venerable wine (it contains some material over 100 years old) is ready to drink now, but should hold in the bottle indefinitely. It's dark coffee-brown, with delectable aromas of rancio, pressed flowers, molasses and honey, yet despite enormous concentration avoids excessive weight. Amazingly complex and fresh on the neverending finish.</td>\n",
       "      <td>100</td>\n",
       "    </tr>\n",
       "    <tr>\n",
       "      <th>24151</th>\n",
       "      <td>A perfect wine from a classic vintage, the 2007 Masseto (100% Merlot from a 17-acre vineyard of the same name) opens with an unabashedly opulent bouquet of delicious blackberry, cherry, chocolate, vanilla, exotic spice and cinnamon. Masseto excels both in terms of quality of fruit and winemaking and delivers plush, velvety tannins and an extra long, supple finish. It will make a special and valuable collection to your cellar.</td>\n",
       "      <td>100</td>\n",
       "    </tr>\n",
       "    <tr>\n",
       "      <th>98647</th>\n",
       "      <td>A spectacular Pinot Noir, but a very young one, and extremely dry. It's a wine of great structure, with rich acids and tannins framing extraordinarily complex flavors of grilled cherries, strawberries and raspberries, with complicating notes of cola, pomegranates, orange zest, anise, dusty Asian spices and smoky sandalwood. A truly great Pinot Noir from a great vintage that needs time in the bottle to express itself. The vineyard, which is owned by the winery, is only 19 acres, planted to an array of newer and older clones. Best after 2013, if you can keep your hands off.</td>\n",
       "      <td>100</td>\n",
       "    </tr>\n",
       "    <tr>\n",
       "      <th>92916</th>\n",
       "      <td>A perfect score has to be considered in the context of its region. Shafer's 2004 Hillside Select is tremendous as a Napa Valley Cabernet Sauvignon that competes with its peers at the highest levels. It's always a fabulous wine, but in warm 2004, Shafer's amphitheater vineyard sheltered the grapes, ripening them to perfection yet protecting the “iron fist in a velvet glove” structure that André Tchelistcheff defined as Stags Leap. This 100% Cabernet is tremendous in cassis, black currant and mocha flavors, and the 100% new French oak provides perfect additions of smoke and caramel. It's soft and gorgeous enough to drink now, and should age well in a cool cellar for the next 20 years.</td>\n",
       "      <td>100</td>\n",
       "    </tr>\n",
       "  </tbody>\n",
       "</table>\n",
       "</div>"
      ],
      "text/plain": [
       "                                                                                                                                                                                                                                                                                                                                                                                                                                                                                                                                                                                                                                                                                                               description  \\\n",
       "19354  In a stunning lineup of Cayuse Syrahs, the En Chamberlin wins by a nose. It's smooth and silky, with a tongue-bending blend of flavors that include blood and iron, umami and salt, at first overtaking the pure fruit, but adding tremendous depth and power. The endless finish unfolds into a wine with exotic spices and complex layering.                                                                                                                                                                                                                                                                                                                                                                        \n",
       "19355  Not a Cellar Selection in the traditional sense of requiring additional aging, this venerable wine (it contains some material over 100 years old) is ready to drink now, but should hold in the bottle indefinitely. It's dark coffee-brown, with delectable aromas of rancio, pressed flowers, molasses and honey, yet despite enormous concentration avoids excessive weight. Amazingly complex and fresh on the neverending finish.                                                                                                                                                                                                                                                                                \n",
       "24151  A perfect wine from a classic vintage, the 2007 Masseto (100% Merlot from a 17-acre vineyard of the same name) opens with an unabashedly opulent bouquet of delicious blackberry, cherry, chocolate, vanilla, exotic spice and cinnamon. Masseto excels both in terms of quality of fruit and winemaking and delivers plush, velvety tannins and an extra long, supple finish. It will make a special and valuable collection to your cellar.                                                                                                                                                                                                                                                                         \n",
       "98647  A spectacular Pinot Noir, but a very young one, and extremely dry. It's a wine of great structure, with rich acids and tannins framing extraordinarily complex flavors of grilled cherries, strawberries and raspberries, with complicating notes of cola, pomegranates, orange zest, anise, dusty Asian spices and smoky sandalwood. A truly great Pinot Noir from a great vintage that needs time in the bottle to express itself. The vineyard, which is owned by the winery, is only 19 acres, planted to an array of newer and older clones. Best after 2013, if you can keep your hands off.                                                                                                                    \n",
       "92916  A perfect score has to be considered in the context of its region. Shafer's 2004 Hillside Select is tremendous as a Napa Valley Cabernet Sauvignon that competes with its peers at the highest levels. It's always a fabulous wine, but in warm 2004, Shafer's amphitheater vineyard sheltered the grapes, ripening them to perfection yet protecting the “iron fist in a velvet glove” structure that André Tchelistcheff defined as Stags Leap. This 100% Cabernet is tremendous in cassis, black currant and mocha flavors, and the 100% new French oak provides perfect additions of smoke and caramel. It's soft and gorgeous enough to drink now, and should age well in a cool cellar for the next 20 years.   \n",
       "\n",
       "       points  \n",
       "19354  100     \n",
       "19355  100     \n",
       "24151  100     \n",
       "98647  100     \n",
       "92916  100     "
      ]
     },
     "execution_count": 15,
     "metadata": {},
     "output_type": "execute_result"
    }
   ],
   "source": [
    "df.tail()"
   ]
  },
  {
   "cell_type": "markdown",
   "metadata": {},
   "source": [
    "Now let's create our sentiment labels in a new column called 'sentiment', with 0 for negative and 1 for positive. We know from before that the average point value is around 88, so let's label everything below 88 as negative and everything 88 and above as positive:"
   ]
  },
  {
   "cell_type": "code",
   "execution_count": 16,
   "metadata": {},
   "outputs": [],
   "source": [
    "df['sentiment'] = df['points'].apply(lambda points: 0 if points < 88 else 1)"
   ]
  },
  {
   "cell_type": "markdown",
   "metadata": {},
   "source": [
    "Now the negative reviews are labeled with a 0 for sentiment:"
   ]
  },
  {
   "cell_type": "code",
   "execution_count": 17,
   "metadata": {},
   "outputs": [
    {
     "data": {
      "text/html": [
       "<div>\n",
       "<style scoped>\n",
       "    .dataframe tbody tr th:only-of-type {\n",
       "        vertical-align: middle;\n",
       "    }\n",
       "\n",
       "    .dataframe tbody tr th {\n",
       "        vertical-align: top;\n",
       "    }\n",
       "\n",
       "    .dataframe thead th {\n",
       "        text-align: right;\n",
       "    }\n",
       "</style>\n",
       "<table border=\"1\" class=\"dataframe\">\n",
       "  <thead>\n",
       "    <tr style=\"text-align: right;\">\n",
       "      <th></th>\n",
       "      <th>description</th>\n",
       "      <th>points</th>\n",
       "      <th>sentiment</th>\n",
       "    </tr>\n",
       "  </thead>\n",
       "  <tbody>\n",
       "    <tr>\n",
       "      <th>19353</th>\n",
       "      <td>Barely acceptable. Dry, harsh and vegetal.</td>\n",
       "      <td>80</td>\n",
       "      <td>0</td>\n",
       "    </tr>\n",
       "    <tr>\n",
       "      <th>140172</th>\n",
       "      <td>Murky and damp smelling, with buttery strawberry flavors. Peppery and dry, with a raw, thin mouthfeel. Acceptable at a base level.</td>\n",
       "      <td>80</td>\n",
       "      <td>0</td>\n",
       "    </tr>\n",
       "    <tr>\n",
       "      <th>140173</th>\n",
       "      <td>Unpleasantly sharp in acids, and burdened with residual sugar, this is a hard wine to like.</td>\n",
       "      <td>80</td>\n",
       "      <td>0</td>\n",
       "    </tr>\n",
       "    <tr>\n",
       "      <th>140174</th>\n",
       "      <td>Despite 15-1/2 percent alcohol, this wine still has residual sugar! Think what the brix must have been at harvest. Drinks like a Port, which is a major fault for a dry table wine. Tasted twice, with consistent results.</td>\n",
       "      <td>80</td>\n",
       "      <td>0</td>\n",
       "    </tr>\n",
       "    <tr>\n",
       "      <th>140175</th>\n",
       "      <td>Heavily toasted, with lemon and burnt-toast aromas. The palate is extremely lemony and short of any lushness normally associated with Merlot. Has color but no ripeness. Proof that Casablanca is not great for Bordeaux varieties.</td>\n",
       "      <td>80</td>\n",
       "      <td>0</td>\n",
       "    </tr>\n",
       "  </tbody>\n",
       "</table>\n",
       "</div>"
      ],
      "text/plain": [
       "                                                                                                                                                                                                                                description  \\\n",
       "19353   Barely acceptable. Dry, harsh and vegetal.                                                                                                                                                                                            \n",
       "140172  Murky and damp smelling, with buttery strawberry flavors. Peppery and dry, with a raw, thin mouthfeel. Acceptable at a base level.                                                                                                    \n",
       "140173  Unpleasantly sharp in acids, and burdened with residual sugar, this is a hard wine to like.                                                                                                                                           \n",
       "140174  Despite 15-1/2 percent alcohol, this wine still has residual sugar! Think what the brix must have been at harvest. Drinks like a Port, which is a major fault for a dry table wine. Tasted twice, with consistent results.            \n",
       "140175  Heavily toasted, with lemon and burnt-toast aromas. The palate is extremely lemony and short of any lushness normally associated with Merlot. Has color but no ripeness. Proof that Casablanca is not great for Bordeaux varieties.   \n",
       "\n",
       "        points  sentiment  \n",
       "19353   80      0          \n",
       "140172  80      0          \n",
       "140173  80      0          \n",
       "140174  80      0          \n",
       "140175  80      0          "
      ]
     },
     "execution_count": 17,
     "metadata": {},
     "output_type": "execute_result"
    }
   ],
   "source": [
    "df.head()"
   ]
  },
  {
   "cell_type": "markdown",
   "metadata": {},
   "source": [
    "And the positive reviews are labeled with a 1:"
   ]
  },
  {
   "cell_type": "code",
   "execution_count": 18,
   "metadata": {},
   "outputs": [
    {
     "data": {
      "text/html": [
       "<div>\n",
       "<style scoped>\n",
       "    .dataframe tbody tr th:only-of-type {\n",
       "        vertical-align: middle;\n",
       "    }\n",
       "\n",
       "    .dataframe tbody tr th {\n",
       "        vertical-align: top;\n",
       "    }\n",
       "\n",
       "    .dataframe thead th {\n",
       "        text-align: right;\n",
       "    }\n",
       "</style>\n",
       "<table border=\"1\" class=\"dataframe\">\n",
       "  <thead>\n",
       "    <tr style=\"text-align: right;\">\n",
       "      <th></th>\n",
       "      <th>description</th>\n",
       "      <th>points</th>\n",
       "      <th>sentiment</th>\n",
       "    </tr>\n",
       "  </thead>\n",
       "  <tbody>\n",
       "    <tr>\n",
       "      <th>19354</th>\n",
       "      <td>In a stunning lineup of Cayuse Syrahs, the En Chamberlin wins by a nose. It's smooth and silky, with a tongue-bending blend of flavors that include blood and iron, umami and salt, at first overtaking the pure fruit, but adding tremendous depth and power. The endless finish unfolds into a wine with exotic spices and complex layering.</td>\n",
       "      <td>100</td>\n",
       "      <td>1</td>\n",
       "    </tr>\n",
       "    <tr>\n",
       "      <th>19355</th>\n",
       "      <td>Not a Cellar Selection in the traditional sense of requiring additional aging, this venerable wine (it contains some material over 100 years old) is ready to drink now, but should hold in the bottle indefinitely. It's dark coffee-brown, with delectable aromas of rancio, pressed flowers, molasses and honey, yet despite enormous concentration avoids excessive weight. Amazingly complex and fresh on the neverending finish.</td>\n",
       "      <td>100</td>\n",
       "      <td>1</td>\n",
       "    </tr>\n",
       "    <tr>\n",
       "      <th>24151</th>\n",
       "      <td>A perfect wine from a classic vintage, the 2007 Masseto (100% Merlot from a 17-acre vineyard of the same name) opens with an unabashedly opulent bouquet of delicious blackberry, cherry, chocolate, vanilla, exotic spice and cinnamon. Masseto excels both in terms of quality of fruit and winemaking and delivers plush, velvety tannins and an extra long, supple finish. It will make a special and valuable collection to your cellar.</td>\n",
       "      <td>100</td>\n",
       "      <td>1</td>\n",
       "    </tr>\n",
       "    <tr>\n",
       "      <th>98647</th>\n",
       "      <td>A spectacular Pinot Noir, but a very young one, and extremely dry. It's a wine of great structure, with rich acids and tannins framing extraordinarily complex flavors of grilled cherries, strawberries and raspberries, with complicating notes of cola, pomegranates, orange zest, anise, dusty Asian spices and smoky sandalwood. A truly great Pinot Noir from a great vintage that needs time in the bottle to express itself. The vineyard, which is owned by the winery, is only 19 acres, planted to an array of newer and older clones. Best after 2013, if you can keep your hands off.</td>\n",
       "      <td>100</td>\n",
       "      <td>1</td>\n",
       "    </tr>\n",
       "    <tr>\n",
       "      <th>92916</th>\n",
       "      <td>A perfect score has to be considered in the context of its region. Shafer's 2004 Hillside Select is tremendous as a Napa Valley Cabernet Sauvignon that competes with its peers at the highest levels. It's always a fabulous wine, but in warm 2004, Shafer's amphitheater vineyard sheltered the grapes, ripening them to perfection yet protecting the “iron fist in a velvet glove” structure that André Tchelistcheff defined as Stags Leap. This 100% Cabernet is tremendous in cassis, black currant and mocha flavors, and the 100% new French oak provides perfect additions of smoke and caramel. It's soft and gorgeous enough to drink now, and should age well in a cool cellar for the next 20 years.</td>\n",
       "      <td>100</td>\n",
       "      <td>1</td>\n",
       "    </tr>\n",
       "  </tbody>\n",
       "</table>\n",
       "</div>"
      ],
      "text/plain": [
       "                                                                                                                                                                                                                                                                                                                                                                                                                                                                                                                                                                                                                                                                                                               description  \\\n",
       "19354  In a stunning lineup of Cayuse Syrahs, the En Chamberlin wins by a nose. It's smooth and silky, with a tongue-bending blend of flavors that include blood and iron, umami and salt, at first overtaking the pure fruit, but adding tremendous depth and power. The endless finish unfolds into a wine with exotic spices and complex layering.                                                                                                                                                                                                                                                                                                                                                                        \n",
       "19355  Not a Cellar Selection in the traditional sense of requiring additional aging, this venerable wine (it contains some material over 100 years old) is ready to drink now, but should hold in the bottle indefinitely. It's dark coffee-brown, with delectable aromas of rancio, pressed flowers, molasses and honey, yet despite enormous concentration avoids excessive weight. Amazingly complex and fresh on the neverending finish.                                                                                                                                                                                                                                                                                \n",
       "24151  A perfect wine from a classic vintage, the 2007 Masseto (100% Merlot from a 17-acre vineyard of the same name) opens with an unabashedly opulent bouquet of delicious blackberry, cherry, chocolate, vanilla, exotic spice and cinnamon. Masseto excels both in terms of quality of fruit and winemaking and delivers plush, velvety tannins and an extra long, supple finish. It will make a special and valuable collection to your cellar.                                                                                                                                                                                                                                                                         \n",
       "98647  A spectacular Pinot Noir, but a very young one, and extremely dry. It's a wine of great structure, with rich acids and tannins framing extraordinarily complex flavors of grilled cherries, strawberries and raspberries, with complicating notes of cola, pomegranates, orange zest, anise, dusty Asian spices and smoky sandalwood. A truly great Pinot Noir from a great vintage that needs time in the bottle to express itself. The vineyard, which is owned by the winery, is only 19 acres, planted to an array of newer and older clones. Best after 2013, if you can keep your hands off.                                                                                                                    \n",
       "92916  A perfect score has to be considered in the context of its region. Shafer's 2004 Hillside Select is tremendous as a Napa Valley Cabernet Sauvignon that competes with its peers at the highest levels. It's always a fabulous wine, but in warm 2004, Shafer's amphitheater vineyard sheltered the grapes, ripening them to perfection yet protecting the “iron fist in a velvet glove” structure that André Tchelistcheff defined as Stags Leap. This 100% Cabernet is tremendous in cassis, black currant and mocha flavors, and the 100% new French oak provides perfect additions of smoke and caramel. It's soft and gorgeous enough to drink now, and should age well in a cool cellar for the next 20 years.   \n",
       "\n",
       "       points  sentiment  \n",
       "19354  100     1          \n",
       "19355  100     1          \n",
       "24151  100     1          \n",
       "98647  100     1          \n",
       "92916  100     1          "
      ]
     },
     "execution_count": 18,
     "metadata": {},
     "output_type": "execute_result"
    }
   ],
   "source": [
    "df.tail()"
   ]
  },
  {
   "cell_type": "markdown",
   "metadata": {},
   "source": [
    "Now let's take the first 10,000 rows (terrible reviews) and last 10,000 rows (amazing reviews) and put them together to create our sentiment analysis dataset:"
   ]
  },
  {
   "cell_type": "code",
   "execution_count": 19,
   "metadata": {},
   "outputs": [],
   "source": [
    "df = pd.concat([df[:10000], df[-10000:]])"
   ]
  },
  {
   "cell_type": "markdown",
   "metadata": {},
   "source": [
    "There should now be 20,000 rows. Let's make sure:"
   ]
  },
  {
   "cell_type": "code",
   "execution_count": 20,
   "metadata": {},
   "outputs": [
    {
     "data": {
      "text/plain": [
       "20000"
      ]
     },
     "execution_count": 20,
     "metadata": {},
     "output_type": "execute_result"
    }
   ],
   "source": [
    "len(df)"
   ]
  },
  {
   "cell_type": "markdown",
   "metadata": {},
   "source": [
    "Great. But we still have a column we don't need anymore: the 'points' column:"
   ]
  },
  {
   "cell_type": "code",
   "execution_count": 21,
   "metadata": {},
   "outputs": [
    {
     "data": {
      "text/html": [
       "<div>\n",
       "<style scoped>\n",
       "    .dataframe tbody tr th:only-of-type {\n",
       "        vertical-align: middle;\n",
       "    }\n",
       "\n",
       "    .dataframe tbody tr th {\n",
       "        vertical-align: top;\n",
       "    }\n",
       "\n",
       "    .dataframe thead th {\n",
       "        text-align: right;\n",
       "    }\n",
       "</style>\n",
       "<table border=\"1\" class=\"dataframe\">\n",
       "  <thead>\n",
       "    <tr style=\"text-align: right;\">\n",
       "      <th></th>\n",
       "      <th>description</th>\n",
       "      <th>points</th>\n",
       "      <th>sentiment</th>\n",
       "    </tr>\n",
       "  </thead>\n",
       "  <tbody>\n",
       "    <tr>\n",
       "      <th>19353</th>\n",
       "      <td>Barely acceptable. Dry, harsh and vegetal.</td>\n",
       "      <td>80</td>\n",
       "      <td>0</td>\n",
       "    </tr>\n",
       "    <tr>\n",
       "      <th>140172</th>\n",
       "      <td>Murky and damp smelling, with buttery strawberry flavors. Peppery and dry, with a raw, thin mouthfeel. Acceptable at a base level.</td>\n",
       "      <td>80</td>\n",
       "      <td>0</td>\n",
       "    </tr>\n",
       "    <tr>\n",
       "      <th>140173</th>\n",
       "      <td>Unpleasantly sharp in acids, and burdened with residual sugar, this is a hard wine to like.</td>\n",
       "      <td>80</td>\n",
       "      <td>0</td>\n",
       "    </tr>\n",
       "    <tr>\n",
       "      <th>140174</th>\n",
       "      <td>Despite 15-1/2 percent alcohol, this wine still has residual sugar! Think what the brix must have been at harvest. Drinks like a Port, which is a major fault for a dry table wine. Tasted twice, with consistent results.</td>\n",
       "      <td>80</td>\n",
       "      <td>0</td>\n",
       "    </tr>\n",
       "    <tr>\n",
       "      <th>140175</th>\n",
       "      <td>Heavily toasted, with lemon and burnt-toast aromas. The palate is extremely lemony and short of any lushness normally associated with Merlot. Has color but no ripeness. Proof that Casablanca is not great for Bordeaux varieties.</td>\n",
       "      <td>80</td>\n",
       "      <td>0</td>\n",
       "    </tr>\n",
       "  </tbody>\n",
       "</table>\n",
       "</div>"
      ],
      "text/plain": [
       "                                                                                                                                                                                                                                description  \\\n",
       "19353   Barely acceptable. Dry, harsh and vegetal.                                                                                                                                                                                            \n",
       "140172  Murky and damp smelling, with buttery strawberry flavors. Peppery and dry, with a raw, thin mouthfeel. Acceptable at a base level.                                                                                                    \n",
       "140173  Unpleasantly sharp in acids, and burdened with residual sugar, this is a hard wine to like.                                                                                                                                           \n",
       "140174  Despite 15-1/2 percent alcohol, this wine still has residual sugar! Think what the brix must have been at harvest. Drinks like a Port, which is a major fault for a dry table wine. Tasted twice, with consistent results.            \n",
       "140175  Heavily toasted, with lemon and burnt-toast aromas. The palate is extremely lemony and short of any lushness normally associated with Merlot. Has color but no ripeness. Proof that Casablanca is not great for Bordeaux varieties.   \n",
       "\n",
       "        points  sentiment  \n",
       "19353   80      0          \n",
       "140172  80      0          \n",
       "140173  80      0          \n",
       "140174  80      0          \n",
       "140175  80      0          "
      ]
     },
     "execution_count": 21,
     "metadata": {},
     "output_type": "execute_result"
    }
   ],
   "source": [
    "df.head()"
   ]
  },
  {
   "cell_type": "markdown",
   "metadata": {},
   "source": [
    "We have the sentiment label now, so the points label isn't needed. Let's drop it from the dataframe:"
   ]
  },
  {
   "cell_type": "code",
   "execution_count": 22,
   "metadata": {},
   "outputs": [],
   "source": [
    "df = df.drop('points', axis=1)"
   ]
  },
  {
   "cell_type": "markdown",
   "metadata": {},
   "source": [
    "And check that it's gone now:"
   ]
  },
  {
   "cell_type": "code",
   "execution_count": 23,
   "metadata": {},
   "outputs": [
    {
     "data": {
      "text/html": [
       "<div>\n",
       "<style scoped>\n",
       "    .dataframe tbody tr th:only-of-type {\n",
       "        vertical-align: middle;\n",
       "    }\n",
       "\n",
       "    .dataframe tbody tr th {\n",
       "        vertical-align: top;\n",
       "    }\n",
       "\n",
       "    .dataframe thead th {\n",
       "        text-align: right;\n",
       "    }\n",
       "</style>\n",
       "<table border=\"1\" class=\"dataframe\">\n",
       "  <thead>\n",
       "    <tr style=\"text-align: right;\">\n",
       "      <th></th>\n",
       "      <th>description</th>\n",
       "      <th>sentiment</th>\n",
       "    </tr>\n",
       "  </thead>\n",
       "  <tbody>\n",
       "    <tr>\n",
       "      <th>19353</th>\n",
       "      <td>Barely acceptable. Dry, harsh and vegetal.</td>\n",
       "      <td>0</td>\n",
       "    </tr>\n",
       "    <tr>\n",
       "      <th>140172</th>\n",
       "      <td>Murky and damp smelling, with buttery strawberry flavors. Peppery and dry, with a raw, thin mouthfeel. Acceptable at a base level.</td>\n",
       "      <td>0</td>\n",
       "    </tr>\n",
       "    <tr>\n",
       "      <th>140173</th>\n",
       "      <td>Unpleasantly sharp in acids, and burdened with residual sugar, this is a hard wine to like.</td>\n",
       "      <td>0</td>\n",
       "    </tr>\n",
       "    <tr>\n",
       "      <th>140174</th>\n",
       "      <td>Despite 15-1/2 percent alcohol, this wine still has residual sugar! Think what the brix must have been at harvest. Drinks like a Port, which is a major fault for a dry table wine. Tasted twice, with consistent results.</td>\n",
       "      <td>0</td>\n",
       "    </tr>\n",
       "    <tr>\n",
       "      <th>140175</th>\n",
       "      <td>Heavily toasted, with lemon and burnt-toast aromas. The palate is extremely lemony and short of any lushness normally associated with Merlot. Has color but no ripeness. Proof that Casablanca is not great for Bordeaux varieties.</td>\n",
       "      <td>0</td>\n",
       "    </tr>\n",
       "  </tbody>\n",
       "</table>\n",
       "</div>"
      ],
      "text/plain": [
       "                                                                                                                                                                                                                                description  \\\n",
       "19353   Barely acceptable. Dry, harsh and vegetal.                                                                                                                                                                                            \n",
       "140172  Murky and damp smelling, with buttery strawberry flavors. Peppery and dry, with a raw, thin mouthfeel. Acceptable at a base level.                                                                                                    \n",
       "140173  Unpleasantly sharp in acids, and burdened with residual sugar, this is a hard wine to like.                                                                                                                                           \n",
       "140174  Despite 15-1/2 percent alcohol, this wine still has residual sugar! Think what the brix must have been at harvest. Drinks like a Port, which is a major fault for a dry table wine. Tasted twice, with consistent results.            \n",
       "140175  Heavily toasted, with lemon and burnt-toast aromas. The palate is extremely lemony and short of any lushness normally associated with Merlot. Has color but no ripeness. Proof that Casablanca is not great for Bordeaux varieties.   \n",
       "\n",
       "        sentiment  \n",
       "19353   0          \n",
       "140172  0          \n",
       "140173  0          \n",
       "140174  0          \n",
       "140175  0          "
      ]
     },
     "execution_count": 23,
     "metadata": {},
     "output_type": "execute_result"
    }
   ],
   "source": [
    "df.head()"
   ]
  },
  {
   "cell_type": "markdown",
   "metadata": {},
   "source": [
    "Ok. Now that the data is all set up, we can start doing some NLP. But before we start learning patterns in the data, let's split it into train and test sets so we can have a way to test our predictions on unseen data. "
   ]
  },
  {
   "cell_type": "markdown",
   "metadata": {},
   "source": [
    "Let's use [scikit-learn](https://scikit-learn.org/) to create our train and test sets:"
   ]
  },
  {
   "cell_type": "code",
   "execution_count": 24,
   "metadata": {},
   "outputs": [],
   "source": [
    "from sklearn.model_selection import train_test_split\n",
    "# use 10% of the data for the test set\n",
    "df_train, df_test = train_test_split(df, test_size=0.1)"
   ]
  },
  {
   "cell_type": "markdown",
   "metadata": {},
   "source": [
    "90% of the data should be in the training set, and 90% of 20,000 is:"
   ]
  },
  {
   "cell_type": "code",
   "execution_count": 25,
   "metadata": {},
   "outputs": [
    {
     "data": {
      "text/plain": [
       "18000"
      ]
     },
     "execution_count": 25,
     "metadata": {},
     "output_type": "execute_result"
    }
   ],
   "source": [
    "len(df_train)"
   ]
  },
  {
   "cell_type": "markdown",
   "metadata": {},
   "source": [
    "And 10% of the data should be in the testing set:"
   ]
  },
  {
   "cell_type": "code",
   "execution_count": 26,
   "metadata": {},
   "outputs": [
    {
     "data": {
      "text/plain": [
       "2000"
      ]
     },
     "execution_count": 26,
     "metadata": {},
     "output_type": "execute_result"
    }
   ],
   "source": [
    "len(df_test)"
   ]
  },
  {
   "cell_type": "markdown",
   "metadata": {},
   "source": [
    "Everything looks good so far. "
   ]
  },
  {
   "cell_type": "markdown",
   "metadata": {},
   "source": [
    "At this point, the train and test sets are references to the full dataset. Since we're going to be adding some columns to them soon, let's make each one own its data. We can do this by having each refer to a copy of the data it's referencing:"
   ]
  },
  {
   "cell_type": "code",
   "execution_count": 27,
   "metadata": {},
   "outputs": [],
   "source": [
    "df_train = df_train.copy()\n",
    "df_test = df_test.copy()"
   ]
  },
  {
   "cell_type": "markdown",
   "metadata": {},
   "source": [
    "Now let's set the test set aside for a while and do some processing with the train set. Let's talk a bit about the approach we'll use for predicting sentiment."
   ]
  },
  {
   "cell_type": "markdown",
   "metadata": {},
   "source": [
    "We're going to predict whether a review is positive or negative based on the presence of certain words in the review text. We're not going to look at the order of words, or how close together they are. We'll hope that the mere presence of certain words will be enough to predict positivity or negativity. But how do we know which words mean 'good' and which mean 'bad'? And how much weight do we give each word in making the prediction when there are both positive and negative words in the same review?"
   ]
  },
  {
   "cell_type": "markdown",
   "metadata": {},
   "source": [
    "Let's look at this negative review from the training set:"
   ]
  },
  {
   "cell_type": "code",
   "execution_count": 28,
   "metadata": {},
   "outputs": [
    {
     "data": {
      "text/plain": [
       "'Floral notes mix with heady aromas of red berry and clay. This wine is soft and dry in the mouth but seems a bit hollow, despite delivering some nice chalky berry flavors that turn to plum on the finish. Imported by Cape Wine Ventures.'"
      ]
     },
     "execution_count": 28,
     "metadata": {},
     "output_type": "execute_result"
    }
   ],
   "source": [
    "df_train.loc[68723]['description']"
   ]
  },
  {
   "cell_type": "markdown",
   "metadata": {},
   "source": [
    "I'm not a domain expert (I don't know much about wine terminology) so I'm not sure if 'dry' and 'chalky' are generally favorable descriptions. 'Floral' sounds positive, but this is a negative review, so my own guesses about which terms are positive or negative are probably not reliable. The only word that stands out as negative is 'hollow', and maybe 'but' and 'despite' imply that something negative came either before or after."
   ]
  },
  {
   "cell_type": "markdown",
   "metadata": {},
   "source": [
    "Let's take a look at a positive review:"
   ]
  },
  {
   "cell_type": "code",
   "execution_count": 29,
   "metadata": {},
   "outputs": [
    {
     "data": {
      "text/plain": [
       "\"Excelencia is a great wine that offers a lot of character beyond just bold fruit and body. This is by far the best El Albar that the Lurtons have made; it features citrus peel, sexy berry fruit and baking spices on the nose, and then sweet berry, black plum, spice and warmth on the palate. It's powerful as a Toro wine should be, but not tannic or harsh. A monster with a smile; drink now and over the next 5–8 years.\""
      ]
     },
     "execution_count": 29,
     "metadata": {},
     "output_type": "execute_result"
    }
   ],
   "source": [
    "df_train.loc[128211]['description']"
   ]
  },
  {
   "cell_type": "markdown",
   "metadata": {},
   "source": [
    "This review has some obviously positive words like 'great' and 'best'. It also has the word 'harsh', but after the modifer 'not', which we wouldn't realize when looking only at the presence of individual words. There are more positive-seeming words than negative ones, though, which our prediction method should take into account. Both reviews have the word 'berry', so this doesn't seem to indicate negativity or positivity."
   ]
  },
  {
   "cell_type": "markdown",
   "metadata": {},
   "source": [
    "However we deal with each word, we first need to break down each review into a list of words. We'll start by defining a 'tokenize' function to break a string into a list of words:"
   ]
  },
  {
   "cell_type": "code",
   "execution_count": 30,
   "metadata": {},
   "outputs": [],
   "source": [
    "import re\n",
    "def tokenize(description):\n",
    "    return [token for token in re.split('\\W+', description.lower()) if token]"
   ]
  },
  {
   "cell_type": "markdown",
   "metadata": {},
   "source": [
    "Let's try it on the positive review that we were just looking at:"
   ]
  },
  {
   "cell_type": "code",
   "execution_count": 31,
   "metadata": {},
   "outputs": [
    {
     "data": {
      "text/plain": [
       "['excelencia', 'is', 'a', 'great', 'wine', 'that', 'offers', 'a', 'lot', 'of']"
      ]
     },
     "execution_count": 31,
     "metadata": {},
     "output_type": "execute_result"
    }
   ],
   "source": [
    "tokenize(df_train.loc[128211]['description'])[:10]"
   ]
  },
  {
   "cell_type": "markdown",
   "metadata": {},
   "source": [
    "Now let's create a new column in the training dataframe that does this for each entry:"
   ]
  },
  {
   "cell_type": "code",
   "execution_count": 32,
   "metadata": {},
   "outputs": [],
   "source": [
    "df_train['tokens'] = df_train['description'].apply(tokenize)"
   ]
  },
  {
   "cell_type": "markdown",
   "metadata": {},
   "source": [
    "Here's what the dataframe looks like now:"
   ]
  },
  {
   "cell_type": "code",
   "execution_count": 33,
   "metadata": {},
   "outputs": [
    {
     "data": {
      "text/html": [
       "<div>\n",
       "<style scoped>\n",
       "    .dataframe tbody tr th:only-of-type {\n",
       "        vertical-align: middle;\n",
       "    }\n",
       "\n",
       "    .dataframe tbody tr th {\n",
       "        vertical-align: top;\n",
       "    }\n",
       "\n",
       "    .dataframe thead th {\n",
       "        text-align: right;\n",
       "    }\n",
       "</style>\n",
       "<table border=\"1\" class=\"dataframe\">\n",
       "  <thead>\n",
       "    <tr style=\"text-align: right;\">\n",
       "      <th></th>\n",
       "      <th>description</th>\n",
       "      <th>sentiment</th>\n",
       "      <th>tokens</th>\n",
       "    </tr>\n",
       "  </thead>\n",
       "  <tbody>\n",
       "    <tr>\n",
       "      <th>148029</th>\n",
       "      <td>Roasted and pruny on the nose, followed by a flacid wine with soft tannins but little acidity. Dull, with some cocoa on the finish.</td>\n",
       "      <td>0</td>\n",
       "      <td>[roasted, and, pruny, on, the, nose, followed, by, a, flacid, wine, with, soft, tannins, but, little, acidity, dull, with, some, cocoa, on, the, finish]</td>\n",
       "    </tr>\n",
       "    <tr>\n",
       "      <th>69161</th>\n",
       "      <td>The fruit, from Walla Walla's great Morrison Lane Vineyard, is flat out sensational. Co-fermented with a generous 6% Viognier, it's a gorgeously aromatic Syrah. Whiff after whiff mixes mineral, bacon fat, wild berry and citrus rind; once in the mouth the flavors rainbow out harmoniously, elegant and constantly shifting.</td>\n",
       "      <td>1</td>\n",
       "      <td>[the, fruit, from, walla, walla, s, great, morrison, lane, vineyard, is, flat, out, sensational, co, fermented, with, a, generous, 6, viognier, it, s, a, gorgeously, aromatic, syrah, whiff, after, whiff, mixes, mineral, bacon, fat, wild, berry, and, citrus, rind, once, in, the, mouth, the, flavors, rainbow, out, harmoniously, elegant, and, constantly, shifting]</td>\n",
       "    </tr>\n",
       "    <tr>\n",
       "      <th>10154</th>\n",
       "      <td>Very little structure in this Cabernet, which makes it too soft for balance. The cherry, cola and sandalwood flavors finish sweet.</td>\n",
       "      <td>0</td>\n",
       "      <td>[very, little, structure, in, this, cabernet, which, makes, it, too, soft, for, balance, the, cherry, cola, and, sandalwood, flavors, finish, sweet]</td>\n",
       "    </tr>\n",
       "    <tr>\n",
       "      <th>60266</th>\n",
       "      <td>Most tasters loved the huge complexities of this ripe, dense young wine. They praised its massive cherry and cocoa flavors that flirt with overripeness, and the smooth, silky texture. Another taster, however, found it super-oaky and clumsy. Likely to soften and knit together with a few hours of decanting, or aging through 2007.</td>\n",
       "      <td>1</td>\n",
       "      <td>[most, tasters, loved, the, huge, complexities, of, this, ripe, dense, young, wine, they, praised, its, massive, cherry, and, cocoa, flavors, that, flirt, with, overripeness, and, the, smooth, silky, texture, another, taster, however, found, it, super, oaky, and, clumsy, likely, to, soften, and, knit, together, with, a, few, hours, of, decanting, or, aging, through, 2007]</td>\n",
       "    </tr>\n",
       "    <tr>\n",
       "      <th>66152</th>\n",
       "      <td>There's plenty of toast for the new-oakies, but it's wrapped around lovely raspberry and plum fruit. Light notes of mint and leather add interest; the wine resonates nicely and gently fades rather than falling off a cliff. Not as massively ripe as the 2003, but equally fine.</td>\n",
       "      <td>1</td>\n",
       "      <td>[there, s, plenty, of, toast, for, the, new, oakies, but, it, s, wrapped, around, lovely, raspberry, and, plum, fruit, light, notes, of, mint, and, leather, add, interest, the, wine, resonates, nicely, and, gently, fades, rather, than, falling, off, a, cliff, not, as, massively, ripe, as, the, 2003, but, equally, fine]</td>\n",
       "    </tr>\n",
       "  </tbody>\n",
       "</table>\n",
       "</div>"
      ],
      "text/plain": [
       "                                                                                                                                                                                                                                                                                                                                      description  \\\n",
       "148029  Roasted and pruny on the nose, followed by a flacid wine with soft tannins but little acidity. Dull, with some cocoa on the finish.                                                                                                                                                                                                         \n",
       "69161   The fruit, from Walla Walla's great Morrison Lane Vineyard, is flat out sensational. Co-fermented with a generous 6% Viognier, it's a gorgeously aromatic Syrah. Whiff after whiff mixes mineral, bacon fat, wild berry and citrus rind; once in the mouth the flavors rainbow out harmoniously, elegant and constantly shifting.           \n",
       "10154   Very little structure in this Cabernet, which makes it too soft for balance. The cherry, cola and sandalwood flavors finish sweet.                                                                                                                                                                                                          \n",
       "60266   Most tasters loved the huge complexities of this ripe, dense young wine. They praised its massive cherry and cocoa flavors that flirt with overripeness, and the smooth, silky texture. Another taster, however, found it super-oaky and clumsy. Likely to soften and knit together with a few hours of decanting, or aging through 2007.   \n",
       "66152   There's plenty of toast for the new-oakies, but it's wrapped around lovely raspberry and plum fruit. Light notes of mint and leather add interest; the wine resonates nicely and gently fades rather than falling off a cliff. Not as massively ripe as the 2003, but equally fine.                                                         \n",
       "\n",
       "        sentiment  \\\n",
       "148029  0           \n",
       "69161   1           \n",
       "10154   0           \n",
       "60266   1           \n",
       "66152   1           \n",
       "\n",
       "                                                                                                                                                                                                                                                                                                                                                                                        tokens  \n",
       "148029  [roasted, and, pruny, on, the, nose, followed, by, a, flacid, wine, with, soft, tannins, but, little, acidity, dull, with, some, cocoa, on, the, finish]                                                                                                                                                                                                                                \n",
       "69161   [the, fruit, from, walla, walla, s, great, morrison, lane, vineyard, is, flat, out, sensational, co, fermented, with, a, generous, 6, viognier, it, s, a, gorgeously, aromatic, syrah, whiff, after, whiff, mixes, mineral, bacon, fat, wild, berry, and, citrus, rind, once, in, the, mouth, the, flavors, rainbow, out, harmoniously, elegant, and, constantly, shifting]             \n",
       "10154   [very, little, structure, in, this, cabernet, which, makes, it, too, soft, for, balance, the, cherry, cola, and, sandalwood, flavors, finish, sweet]                                                                                                                                                                                                                                    \n",
       "60266   [most, tasters, loved, the, huge, complexities, of, this, ripe, dense, young, wine, they, praised, its, massive, cherry, and, cocoa, flavors, that, flirt, with, overripeness, and, the, smooth, silky, texture, another, taster, however, found, it, super, oaky, and, clumsy, likely, to, soften, and, knit, together, with, a, few, hours, of, decanting, or, aging, through, 2007]  \n",
       "66152   [there, s, plenty, of, toast, for, the, new, oakies, but, it, s, wrapped, around, lovely, raspberry, and, plum, fruit, light, notes, of, mint, and, leather, add, interest, the, wine, resonates, nicely, and, gently, fades, rather, than, falling, off, a, cliff, not, as, massively, ripe, as, the, 2003, but, equally, fine]                                                        "
      ]
     },
     "execution_count": 33,
     "metadata": {},
     "output_type": "execute_result"
    }
   ],
   "source": [
    "df_train.head()"
   ]
  },
  {
   "cell_type": "markdown",
   "metadata": {},
   "source": [
    "Now we can use the new 'tokens' column to create a lexicon (a set of all the unique words used in the dataset):"
   ]
  },
  {
   "cell_type": "code",
   "execution_count": 34,
   "metadata": {},
   "outputs": [],
   "source": [
    "lexicon = set([token for review in df_train['tokens'] for token in review])"
   ]
  },
  {
   "cell_type": "markdown",
   "metadata": {},
   "source": [
    "We can see how many unique words were used in the full set of reviews:"
   ]
  },
  {
   "cell_type": "code",
   "execution_count": 35,
   "metadata": {},
   "outputs": [
    {
     "data": {
      "text/plain": [
       "16060"
      ]
     },
     "execution_count": 35,
     "metadata": {},
     "output_type": "execute_result"
    }
   ],
   "source": [
    "len(lexicon)"
   ]
  },
  {
   "cell_type": "markdown",
   "metadata": {},
   "source": [
    "We need to create a 'positivity' rating for each of those words, and there are a lot of them. Doing it manually would take a really long time. But using some word counting and simple math, we can have the computer do it much faster."
   ]
  },
  {
   "cell_type": "markdown",
   "metadata": {},
   "source": [
    "Now I'll explain the approach. Our training set has a roughly equal number of positive and negative reviews. For each word in the lexicon we just made, we can count how many times it appears in the full set of positive reviews and how many times it appears in the negative reviews. Then we can make a list of ratios, dividing positive occurances by negative occurances of each word. If a word appears much more in positive reviews than in negative reviews, its presence in any given review indicates that the review will be positive. "
   ]
  },
  {
   "cell_type": "markdown",
   "metadata": {},
   "source": [
    "Let's create this list of positivity scores for each word. First we need to have a way to reference the set of positive reviews and the set of negative reviews from the training data:"
   ]
  },
  {
   "cell_type": "code",
   "execution_count": 36,
   "metadata": {},
   "outputs": [],
   "source": [
    "negative = df_train[df_train['sentiment']==0]\n",
    "positive = df_train[df_train['sentiment']==1]"
   ]
  },
  {
   "cell_type": "markdown",
   "metadata": {},
   "source": [
    "Now we can create separate word counts for each category using python's Counter class:"
   ]
  },
  {
   "cell_type": "code",
   "execution_count": 37,
   "metadata": {},
   "outputs": [],
   "source": [
    "from collections import Counter\n",
    "negative_counts = Counter(token for review in negative['tokens'] for token in review)\n",
    "positive_counts = Counter(token for review in positive['tokens'] for token in review)"
   ]
  },
  {
   "cell_type": "markdown",
   "metadata": {},
   "source": [
    "We can look at the most common words in each category:"
   ]
  },
  {
   "cell_type": "code",
   "execution_count": 38,
   "metadata": {
    "scrolled": true
   },
   "outputs": [
    {
     "data": {
      "text/plain": [
       "[('and', 19661),\n",
       " ('the', 11688),\n",
       " ('a', 9708),\n",
       " ('with', 7790),\n",
       " ('of', 7111),\n",
       " ('flavors', 5236),\n",
       " ('is', 4962),\n",
       " ('this', 4929),\n",
       " ('it', 4650),\n",
       " ('wine', 4007)]"
      ]
     },
     "execution_count": 38,
     "metadata": {},
     "output_type": "execute_result"
    }
   ],
   "source": [
    "negative_counts.most_common(10)"
   ]
  },
  {
   "cell_type": "code",
   "execution_count": 39,
   "metadata": {},
   "outputs": [
    {
     "data": {
      "text/plain": [
       "[('and', 27277),\n",
       " ('the', 20455),\n",
       " ('a', 14057),\n",
       " ('of', 13883),\n",
       " ('with', 9224),\n",
       " ('is', 9190),\n",
       " ('this', 8530),\n",
       " ('it', 8485),\n",
       " ('wine', 7340),\n",
       " ('in', 6001)]"
      ]
     },
     "execution_count": 39,
     "metadata": {},
     "output_type": "execute_result"
    }
   ],
   "source": [
    "positive_counts.most_common(10)"
   ]
  },
  {
   "cell_type": "markdown",
   "metadata": {},
   "source": [
    "You'll notice that none of these most common words seem very representative of their respective categories. These word counts aren't much help on their own. The important part is the next step, where we'll take the ratio of positive to negative counts for each word. We'll call this ratio 'positivity':"
   ]
  },
  {
   "cell_type": "code",
   "execution_count": 40,
   "metadata": {},
   "outputs": [],
   "source": [
    "positivity = {token: (positive_counts[token]+1)/(negative_counts[token]+1) for token in lexicon}"
   ]
  },
  {
   "cell_type": "markdown",
   "metadata": {},
   "source": [
    "Let's test these positivity scores to see if they make sense. Strongly positive words should have large numbers and strongly negative reviews should have very small numbers:"
   ]
  },
  {
   "cell_type": "code",
   "execution_count": 41,
   "metadata": {},
   "outputs": [
    {
     "data": {
      "text/plain": [
       "46.0"
      ]
     },
     "execution_count": 41,
     "metadata": {},
     "output_type": "execute_result"
    }
   ],
   "source": [
    "positivity['amazing']"
   ]
  },
  {
   "cell_type": "markdown",
   "metadata": {},
   "source": [
    "That makes sense. What about a negative word?"
   ]
  },
  {
   "cell_type": "code",
   "execution_count": 42,
   "metadata": {},
   "outputs": [
    {
     "data": {
      "text/plain": [
       "0.008264462809917356"
      ]
     },
     "execution_count": 42,
     "metadata": {},
     "output_type": "execute_result"
    }
   ],
   "source": [
    "positivity['harsh']"
   ]
  },
  {
   "cell_type": "markdown",
   "metadata": {},
   "source": [
    "The positivity scores make sense. Let's put all of this word count data into a new dataframe:"
   ]
  },
  {
   "cell_type": "code",
   "execution_count": 43,
   "metadata": {},
   "outputs": [],
   "source": [
    "df_tokens = pd.DataFrame({'token': list(lexicon)})\n",
    "df_tokens['positive_count'] = df_tokens['token'].apply(lambda token: positive_counts[token])\n",
    "df_tokens['negative_count'] = df_tokens['token'].apply(lambda token: negative_counts[token])\n",
    "df_tokens['positivity'] = df_tokens['token'].apply(lambda token: positivity[token])"
   ]
  },
  {
   "cell_type": "markdown",
   "metadata": {},
   "source": [
    "Let's sort this token dataframe by positivity ascending to see the most negative words:"
   ]
  },
  {
   "cell_type": "code",
   "execution_count": 44,
   "metadata": {},
   "outputs": [
    {
     "data": {
      "text/html": [
       "<div>\n",
       "<style scoped>\n",
       "    .dataframe tbody tr th:only-of-type {\n",
       "        vertical-align: middle;\n",
       "    }\n",
       "\n",
       "    .dataframe tbody tr th {\n",
       "        vertical-align: top;\n",
       "    }\n",
       "\n",
       "    .dataframe thead th {\n",
       "        text-align: right;\n",
       "    }\n",
       "</style>\n",
       "<table border=\"1\" class=\"dataframe\">\n",
       "  <thead>\n",
       "    <tr style=\"text-align: right;\">\n",
       "      <th></th>\n",
       "      <th>token</th>\n",
       "      <th>positive_count</th>\n",
       "      <th>negative_count</th>\n",
       "      <th>positivity</th>\n",
       "    </tr>\n",
       "  </thead>\n",
       "  <tbody>\n",
       "    <tr>\n",
       "      <th>2933</th>\n",
       "      <td>everyday</td>\n",
       "      <td>0</td>\n",
       "      <td>177</td>\n",
       "      <td>0.005618</td>\n",
       "    </tr>\n",
       "    <tr>\n",
       "      <th>13487</th>\n",
       "      <td>watery</td>\n",
       "      <td>0</td>\n",
       "      <td>156</td>\n",
       "      <td>0.006369</td>\n",
       "    </tr>\n",
       "    <tr>\n",
       "      <th>7037</th>\n",
       "      <td>bland</td>\n",
       "      <td>0</td>\n",
       "      <td>123</td>\n",
       "      <td>0.008065</td>\n",
       "    </tr>\n",
       "    <tr>\n",
       "      <th>400</th>\n",
       "      <td>harsh</td>\n",
       "      <td>1</td>\n",
       "      <td>241</td>\n",
       "      <td>0.008264</td>\n",
       "    </tr>\n",
       "    <tr>\n",
       "      <th>5365</th>\n",
       "      <td>dilute</td>\n",
       "      <td>0</td>\n",
       "      <td>104</td>\n",
       "      <td>0.009524</td>\n",
       "    </tr>\n",
       "    <tr>\n",
       "      <th>8705</th>\n",
       "      <td>pickled</td>\n",
       "      <td>0</td>\n",
       "      <td>103</td>\n",
       "      <td>0.009615</td>\n",
       "    </tr>\n",
       "    <tr>\n",
       "      <th>5359</th>\n",
       "      <td>acceptable</td>\n",
       "      <td>0</td>\n",
       "      <td>88</td>\n",
       "      <td>0.011236</td>\n",
       "    </tr>\n",
       "    <tr>\n",
       "      <th>8326</th>\n",
       "      <td>canned</td>\n",
       "      <td>0</td>\n",
       "      <td>75</td>\n",
       "      <td>0.013158</td>\n",
       "    </tr>\n",
       "    <tr>\n",
       "      <th>644</th>\n",
       "      <td>weedy</td>\n",
       "      <td>0</td>\n",
       "      <td>74</td>\n",
       "      <td>0.013333</td>\n",
       "    </tr>\n",
       "    <tr>\n",
       "      <th>1183</th>\n",
       "      <td>vegetal</td>\n",
       "      <td>3</td>\n",
       "      <td>293</td>\n",
       "      <td>0.013605</td>\n",
       "    </tr>\n",
       "  </tbody>\n",
       "</table>\n",
       "</div>"
      ],
      "text/plain": [
       "            token  positive_count  negative_count  positivity\n",
       "2933   everyday    0               177             0.005618  \n",
       "13487  watery      0               156             0.006369  \n",
       "7037   bland       0               123             0.008065  \n",
       "400    harsh       1               241             0.008264  \n",
       "5365   dilute      0               104             0.009524  \n",
       "8705   pickled     0               103             0.009615  \n",
       "5359   acceptable  0               88              0.011236  \n",
       "8326   canned      0               75              0.013158  \n",
       "644    weedy       0               74              0.013333  \n",
       "1183   vegetal     3               293             0.013605  "
      ]
     },
     "execution_count": 44,
     "metadata": {},
     "output_type": "execute_result"
    }
   ],
   "source": [
    "df_tokens.sort_values('positivity').head(10)"
   ]
  },
  {
   "cell_type": "markdown",
   "metadata": {},
   "source": [
    "And now we can see the most positive words by sorting by positivity descending:"
   ]
  },
  {
   "cell_type": "code",
   "execution_count": 45,
   "metadata": {},
   "outputs": [
    {
     "data": {
      "text/html": [
       "<div>\n",
       "<style scoped>\n",
       "    .dataframe tbody tr th:only-of-type {\n",
       "        vertical-align: middle;\n",
       "    }\n",
       "\n",
       "    .dataframe tbody tr th {\n",
       "        vertical-align: top;\n",
       "    }\n",
       "\n",
       "    .dataframe thead th {\n",
       "        text-align: right;\n",
       "    }\n",
       "</style>\n",
       "<table border=\"1\" class=\"dataframe\">\n",
       "  <thead>\n",
       "    <tr style=\"text-align: right;\">\n",
       "      <th></th>\n",
       "      <th>token</th>\n",
       "      <th>positive_count</th>\n",
       "      <th>negative_count</th>\n",
       "      <th>positivity</th>\n",
       "    </tr>\n",
       "  </thead>\n",
       "  <tbody>\n",
       "    <tr>\n",
       "      <th>12633</th>\n",
       "      <td>2020</td>\n",
       "      <td>332</td>\n",
       "      <td>0</td>\n",
       "      <td>333.0</td>\n",
       "    </tr>\n",
       "    <tr>\n",
       "      <th>11970</th>\n",
       "      <td>2018</td>\n",
       "      <td>272</td>\n",
       "      <td>0</td>\n",
       "      <td>273.0</td>\n",
       "    </tr>\n",
       "    <tr>\n",
       "      <th>9858</th>\n",
       "      <td>94</td>\n",
       "      <td>259</td>\n",
       "      <td>0</td>\n",
       "      <td>260.0</td>\n",
       "    </tr>\n",
       "    <tr>\n",
       "      <th>15915</th>\n",
       "      <td>92</td>\n",
       "      <td>190</td>\n",
       "      <td>0</td>\n",
       "      <td>191.0</td>\n",
       "    </tr>\n",
       "    <tr>\n",
       "      <th>7304</th>\n",
       "      <td>decade</td>\n",
       "      <td>177</td>\n",
       "      <td>0</td>\n",
       "      <td>178.0</td>\n",
       "    </tr>\n",
       "    <tr>\n",
       "      <th>7515</th>\n",
       "      <td>finely</td>\n",
       "      <td>167</td>\n",
       "      <td>0</td>\n",
       "      <td>168.0</td>\n",
       "    </tr>\n",
       "    <tr>\n",
       "      <th>10229</th>\n",
       "      <td>2025</td>\n",
       "      <td>156</td>\n",
       "      <td>0</td>\n",
       "      <td>157.0</td>\n",
       "    </tr>\n",
       "    <tr>\n",
       "      <th>13885</th>\n",
       "      <td>gorgeous</td>\n",
       "      <td>310</td>\n",
       "      <td>1</td>\n",
       "      <td>155.5</td>\n",
       "    </tr>\n",
       "    <tr>\n",
       "      <th>10146</th>\n",
       "      <td>barolo</td>\n",
       "      <td>154</td>\n",
       "      <td>0</td>\n",
       "      <td>155.0</td>\n",
       "    </tr>\n",
       "    <tr>\n",
       "      <th>8210</th>\n",
       "      <td>93</td>\n",
       "      <td>139</td>\n",
       "      <td>0</td>\n",
       "      <td>140.0</td>\n",
       "    </tr>\n",
       "  </tbody>\n",
       "</table>\n",
       "</div>"
      ],
      "text/plain": [
       "          token  positive_count  negative_count  positivity\n",
       "12633  2020      332             0               333.0     \n",
       "11970  2018      272             0               273.0     \n",
       "9858   94        259             0               260.0     \n",
       "15915  92        190             0               191.0     \n",
       "7304   decade    177             0               178.0     \n",
       "7515   finely    167             0               168.0     \n",
       "10229  2025      156             0               157.0     \n",
       "13885  gorgeous  310             1               155.5     \n",
       "10146  barolo    154             0               155.0     \n",
       "8210   93        139             0               140.0     "
      ]
     },
     "execution_count": 45,
     "metadata": {},
     "output_type": "execute_result"
    }
   ],
   "source": [
    "df_tokens.sort_values('positivity', ascending=False).head(10)"
   ]
  },
  {
   "cell_type": "markdown",
   "metadata": {},
   "source": [
    "That's weird, right? The most positive words are mostly numbers (years, specifically). I wouldn't have thought a year could have so much positive sentiment, but that's why we let the computer figure this stuff out instead of me. "
   ]
  },
  {
   "cell_type": "markdown",
   "metadata": {},
   "source": [
    "There's a slight adjustment we can make to the positivity values that will make it easier to compare degrees of positivity and negativity. Right now, a word with positivity of 10 is as positive as a word with positivity .1 is negative. If we take the log of every positivity score, then it's absolute value will describe its degree of sentiment, whether that's negative or positive. "
   ]
  },
  {
   "cell_type": "markdown",
   "metadata": {},
   "source": [
    "Let's make that change to the positivity values:"
   ]
  },
  {
   "cell_type": "code",
   "execution_count": 46,
   "metadata": {},
   "outputs": [],
   "source": [
    "import math\n",
    "df_tokens['positivity'] = df_tokens['positivity'].apply(lambda positivity: math.log(positivity))"
   ]
  },
  {
   "cell_type": "markdown",
   "metadata": {},
   "source": [
    "Here's the most positive word:"
   ]
  },
  {
   "cell_type": "code",
   "execution_count": 47,
   "metadata": {},
   "outputs": [
    {
     "data": {
      "text/html": [
       "<div>\n",
       "<style scoped>\n",
       "    .dataframe tbody tr th:only-of-type {\n",
       "        vertical-align: middle;\n",
       "    }\n",
       "\n",
       "    .dataframe tbody tr th {\n",
       "        vertical-align: top;\n",
       "    }\n",
       "\n",
       "    .dataframe thead th {\n",
       "        text-align: right;\n",
       "    }\n",
       "</style>\n",
       "<table border=\"1\" class=\"dataframe\">\n",
       "  <thead>\n",
       "    <tr style=\"text-align: right;\">\n",
       "      <th></th>\n",
       "      <th>token</th>\n",
       "      <th>positive_count</th>\n",
       "      <th>negative_count</th>\n",
       "      <th>positivity</th>\n",
       "    </tr>\n",
       "  </thead>\n",
       "  <tbody>\n",
       "    <tr>\n",
       "      <th>12633</th>\n",
       "      <td>2020</td>\n",
       "      <td>332</td>\n",
       "      <td>0</td>\n",
       "      <td>5.808142</td>\n",
       "    </tr>\n",
       "  </tbody>\n",
       "</table>\n",
       "</div>"
      ],
      "text/plain": [
       "      token  positive_count  negative_count  positivity\n",
       "12633  2020  332             0               5.808142  "
      ]
     },
     "execution_count": 47,
     "metadata": {},
     "output_type": "execute_result"
    }
   ],
   "source": [
    "df_tokens[df_tokens['positivity'] == df_tokens['positivity'].max()]"
   ]
  },
  {
   "cell_type": "markdown",
   "metadata": {},
   "source": [
    "And here's the most negative word:"
   ]
  },
  {
   "cell_type": "code",
   "execution_count": 48,
   "metadata": {},
   "outputs": [
    {
     "data": {
      "text/html": [
       "<div>\n",
       "<style scoped>\n",
       "    .dataframe tbody tr th:only-of-type {\n",
       "        vertical-align: middle;\n",
       "    }\n",
       "\n",
       "    .dataframe tbody tr th {\n",
       "        vertical-align: top;\n",
       "    }\n",
       "\n",
       "    .dataframe thead th {\n",
       "        text-align: right;\n",
       "    }\n",
       "</style>\n",
       "<table border=\"1\" class=\"dataframe\">\n",
       "  <thead>\n",
       "    <tr style=\"text-align: right;\">\n",
       "      <th></th>\n",
       "      <th>token</th>\n",
       "      <th>positive_count</th>\n",
       "      <th>negative_count</th>\n",
       "      <th>positivity</th>\n",
       "    </tr>\n",
       "  </thead>\n",
       "  <tbody>\n",
       "    <tr>\n",
       "      <th>2933</th>\n",
       "      <td>everyday</td>\n",
       "      <td>0</td>\n",
       "      <td>177</td>\n",
       "      <td>-5.181784</td>\n",
       "    </tr>\n",
       "  </tbody>\n",
       "</table>\n",
       "</div>"
      ],
      "text/plain": [
       "         token  positive_count  negative_count  positivity\n",
       "2933  everyday  0               177            -5.181784  "
      ]
     },
     "execution_count": 48,
     "metadata": {},
     "output_type": "execute_result"
    }
   ],
   "source": [
    "df_tokens[df_tokens['positivity'] == df_tokens['positivity'].min()]"
   ]
  },
  {
   "cell_type": "markdown",
   "metadata": {},
   "source": [
    "As you can see, they are roughly equally distant from zero, so now it will be easier to compare positive vs negative words. Another helpful effect of the log function is that it has normalized the values to a smaller range (about -6 to 6) instead of the huge positivity values we had before for some words. "
   ]
  },
  {
   "cell_type": "markdown",
   "metadata": {},
   "source": [
    "Now that we have these positivity scores for each word that appears in the reviews, what do we do with them? "
   ]
  },
  {
   "cell_type": "markdown",
   "metadata": {},
   "source": [
    "Let's look at that negative review from before:"
   ]
  },
  {
   "cell_type": "code",
   "execution_count": 49,
   "metadata": {},
   "outputs": [
    {
     "data": {
      "text/plain": [
       "'Floral notes mix with heady aromas of red berry and clay. This wine is soft and dry in the mouth but seems a bit hollow, despite delivering some nice chalky berry flavors that turn to plum on the finish. Imported by Cape Wine Ventures.'"
      ]
     },
     "execution_count": 49,
     "metadata": {},
     "output_type": "execute_result"
    }
   ],
   "source": [
    "df_train.loc[68723]['description']"
   ]
  },
  {
   "cell_type": "markdown",
   "metadata": {},
   "source": [
    "Each of the words in this review now has a positivity rating. Here are the most negative words in the review:"
   ]
  },
  {
   "cell_type": "code",
   "execution_count": 50,
   "metadata": {},
   "outputs": [
    {
     "data": {
      "text/html": [
       "<div>\n",
       "<style scoped>\n",
       "    .dataframe tbody tr th:only-of-type {\n",
       "        vertical-align: middle;\n",
       "    }\n",
       "\n",
       "    .dataframe tbody tr th {\n",
       "        vertical-align: top;\n",
       "    }\n",
       "\n",
       "    .dataframe thead th {\n",
       "        text-align: right;\n",
       "    }\n",
       "</style>\n",
       "<table border=\"1\" class=\"dataframe\">\n",
       "  <thead>\n",
       "    <tr style=\"text-align: right;\">\n",
       "      <th></th>\n",
       "      <th>token</th>\n",
       "      <th>positive_count</th>\n",
       "      <th>negative_count</th>\n",
       "      <th>positivity</th>\n",
       "    </tr>\n",
       "  </thead>\n",
       "  <tbody>\n",
       "    <tr>\n",
       "      <th>480</th>\n",
       "      <td>hollow</td>\n",
       "      <td>4</td>\n",
       "      <td>50</td>\n",
       "      <td>-2.322388</td>\n",
       "    </tr>\n",
       "    <tr>\n",
       "      <th>4828</th>\n",
       "      <td>cape</td>\n",
       "      <td>0</td>\n",
       "      <td>6</td>\n",
       "      <td>-1.945910</td>\n",
       "    </tr>\n",
       "    <tr>\n",
       "      <th>5772</th>\n",
       "      <td>turn</td>\n",
       "      <td>22</td>\n",
       "      <td>90</td>\n",
       "      <td>-1.375365</td>\n",
       "    </tr>\n",
       "    <tr>\n",
       "      <th>12491</th>\n",
       "      <td>bit</td>\n",
       "      <td>166</td>\n",
       "      <td>634</td>\n",
       "      <td>-1.335631</td>\n",
       "    </tr>\n",
       "    <tr>\n",
       "      <th>8354</th>\n",
       "      <td>nice</td>\n",
       "      <td>69</td>\n",
       "      <td>204</td>\n",
       "      <td>-1.074515</td>\n",
       "    </tr>\n",
       "  </tbody>\n",
       "</table>\n",
       "</div>"
      ],
      "text/plain": [
       "        token  positive_count  negative_count  positivity\n",
       "480    hollow  4               50             -2.322388  \n",
       "4828   cape    0               6              -1.945910  \n",
       "5772   turn    22              90             -1.375365  \n",
       "12491  bit     166             634            -1.335631  \n",
       "8354   nice    69              204            -1.074515  "
      ]
     },
     "execution_count": 50,
     "metadata": {},
     "output_type": "execute_result"
    }
   ],
   "source": [
    "review = df_tokens[df_tokens['token'].isin(df_train.loc[68723]['tokens'])]\n",
    "review.sort_values('positivity').head()"
   ]
  },
  {
   "cell_type": "markdown",
   "metadata": {},
   "source": [
    "Let's look at a histogram of all the words in the review and their positivity scores:"
   ]
  },
  {
   "cell_type": "code",
   "execution_count": 51,
   "metadata": {},
   "outputs": [
    {
     "data": {
      "image/png": "[encoded data removed]",
      "text/plain": [
       "<Figure size 432x288 with 1 Axes>"
      ]
     },
     "metadata": {
      "needs_background": "light"
     },
     "output_type": "display_data"
    }
   ],
   "source": [
    "review = df_tokens[df_tokens['token'].isin(df_train.loc[68723]['tokens'])]\n",
    "hist = review.hist(column='positivity', bins=len(review))"
   ]
  },
  {
   "cell_type": "markdown",
   "metadata": {},
   "source": [
    "Each bar represents a word in the review. The bar's height is the number of times that word appeared in the review and the bar's x position is the word's positivity value."
   ]
  },
  {
   "cell_type": "markdown",
   "metadata": {},
   "source": [
    "Let's look at some statistics for this review:"
   ]
  },
  {
   "cell_type": "code",
   "execution_count": 52,
   "metadata": {},
   "outputs": [
    {
     "data": {
      "text/plain": [
       "count    40.000000\n",
       "mean    -0.034548 \n",
       "std      0.832486 \n",
       "min     -2.322388 \n",
       "25%     -0.306613 \n",
       "50%      0.109137 \n",
       "75%      0.530523 \n",
       "max      2.228477 \n",
       "Name: positivity, dtype: float64"
      ]
     },
     "execution_count": 52,
     "metadata": {},
     "output_type": "execute_result"
    }
   ],
   "source": [
    "review['positivity'].describe()"
   ]
  },
  {
   "cell_type": "markdown",
   "metadata": {},
   "source": [
    "We can see that the review has 40 unique words. The mean positivity score is slightly below zero. This means that if our approach was to take the average positivity rating of all words in a review, we would label this negative review as almost perfectly neutral. "
   ]
  },
  {
   "cell_type": "markdown",
   "metadata": {},
   "source": [
    "But -0.050200 is still negative, even if only slightly, so we would correctly classify this review as negative. So maybe this approach of finding the mean positivity of all words in the review will work. "
   ]
  },
  {
   "cell_type": "markdown",
   "metadata": {},
   "source": [
    "Let's try the same thing on the positive review from before:"
   ]
  },
  {
   "cell_type": "code",
   "execution_count": 53,
   "metadata": {},
   "outputs": [
    {
     "data": {
      "text/plain": [
       "\"Excelencia is a great wine that offers a lot of character beyond just bold fruit and body. This is by far the best El Albar that the Lurtons have made; it features citrus peel, sexy berry fruit and baking spices on the nose, and then sweet berry, black plum, spice and warmth on the palate. It's powerful as a Toro wine should be, but not tannic or harsh. A monster with a smile; drink now and over the next 5–8 years.\""
      ]
     },
     "execution_count": 53,
     "metadata": {},
     "output_type": "execute_result"
    }
   ],
   "source": [
    "df_train.loc[128211]['description']"
   ]
  },
  {
   "cell_type": "markdown",
   "metadata": {},
   "source": [
    "Here are the most positive tokens in the review:"
   ]
  },
  {
   "cell_type": "code",
   "execution_count": 55,
   "metadata": {},
   "outputs": [
    {
     "data": {
      "text/html": [
       "<div>\n",
       "<style scoped>\n",
       "    .dataframe tbody tr th:only-of-type {\n",
       "        vertical-align: middle;\n",
       "    }\n",
       "\n",
       "    .dataframe tbody tr th {\n",
       "        vertical-align: top;\n",
       "    }\n",
       "\n",
       "    .dataframe thead th {\n",
       "        text-align: right;\n",
       "    }\n",
       "</style>\n",
       "<table border=\"1\" class=\"dataframe\">\n",
       "  <thead>\n",
       "    <tr style=\"text-align: right;\">\n",
       "      <th></th>\n",
       "      <th>token</th>\n",
       "      <th>positive_count</th>\n",
       "      <th>negative_count</th>\n",
       "      <th>positivity</th>\n",
       "    </tr>\n",
       "  </thead>\n",
       "  <tbody>\n",
       "    <tr>\n",
       "      <th>8867</th>\n",
       "      <td>baking</td>\n",
       "      <td>159</td>\n",
       "      <td>10</td>\n",
       "      <td>2.677279</td>\n",
       "    </tr>\n",
       "    <tr>\n",
       "      <th>10777</th>\n",
       "      <td>next</td>\n",
       "      <td>474</td>\n",
       "      <td>25</td>\n",
       "      <td>2.905218</td>\n",
       "    </tr>\n",
       "    <tr>\n",
       "      <th>11453</th>\n",
       "      <td>sexy</td>\n",
       "      <td>25</td>\n",
       "      <td>0</td>\n",
       "      <td>3.258097</td>\n",
       "    </tr>\n",
       "    <tr>\n",
       "      <th>6770</th>\n",
       "      <td>years</td>\n",
       "      <td>2098</td>\n",
       "      <td>79</td>\n",
       "      <td>3.267190</td>\n",
       "    </tr>\n",
       "    <tr>\n",
       "      <th>1189</th>\n",
       "      <td>powerful</td>\n",
       "      <td>723</td>\n",
       "      <td>26</td>\n",
       "      <td>3.288955</td>\n",
       "    </tr>\n",
       "  </tbody>\n",
       "</table>\n",
       "</div>"
      ],
      "text/plain": [
       "          token  positive_count  negative_count  positivity\n",
       "8867   baking    159             10              2.677279  \n",
       "10777  next      474             25              2.905218  \n",
       "11453  sexy      25              0               3.258097  \n",
       "6770   years     2098            79              3.267190  \n",
       "1189   powerful  723             26              3.288955  "
      ]
     },
     "execution_count": 55,
     "metadata": {},
     "output_type": "execute_result"
    }
   ],
   "source": [
    "review = df_tokens[df_tokens['token'].isin(df_train.loc[128211]['tokens'])]\n",
    "review.sort_values('positivity').tail()"
   ]
  },
  {
   "cell_type": "code",
   "execution_count": 56,
   "metadata": {},
   "outputs": [
    {
     "data": {
      "text/plain": [
       "count    64.000000\n",
       "mean     0.731898 \n",
       "std      1.245142 \n",
       "min     -4.795791 \n",
       "25%      0.150613 \n",
       "50%      0.603259 \n",
       "75%      1.513854 \n",
       "max      3.288955 \n",
       "Name: positivity, dtype: float64"
      ]
     },
     "execution_count": 56,
     "metadata": {},
     "output_type": "execute_result"
    }
   ],
   "source": [
    "review['positivity'].describe()"
   ]
  },
  {
   "cell_type": "markdown",
   "metadata": {},
   "source": [
    "This time the average positivity is still near zero, but slightly positive. Another interesting stat is that the most negative word in the review is more negative than the most positive word is positive (look at the min and max values). If we let a single word choose the sentiment prediction, we would get this prediction wrong. "
   ]
  },
  {
   "cell_type": "code",
   "execution_count": 57,
   "metadata": {},
   "outputs": [
    {
     "data": {
      "image/png": "[encoded data removed]",
      "text/plain": [
       "<Figure size 432x288 with 1 Axes>"
      ]
     },
     "metadata": {
      "needs_background": "light"
     },
     "output_type": "display_data"
    }
   ],
   "source": [
    "review = df_tokens[df_tokens['token'].isin(df_train.loc[128211]['tokens'])]\n",
    "hist = review.hist(column='positivity', bins=len(review))"
   ]
  },
  {
   "cell_type": "markdown",
   "metadata": {},
   "source": [
    "This time there is clearly most weight on the positive side of the scale, so we would predict this review correctly."
   ]
  },
  {
   "cell_type": "markdown",
   "metadata": {},
   "source": [
    "Let's test this approach on our training data. We have already 'trained' this model by creating the positivity scores for each token. These were created using the training data, so they should be able to predict the training data well. "
   ]
  },
  {
   "cell_type": "markdown",
   "metadata": {},
   "source": [
    "First we need a function to make a prediction given a single review:"
   ]
  },
  {
   "cell_type": "code",
   "execution_count": 93,
   "metadata": {},
   "outputs": [],
   "source": [
    "def predict(tokens):\n",
    "    score = df_tokens[df_tokens['token'].isin(tokens)]['positivity'].mean()\n",
    "    return 1 if score > 0 else 0"
   ]
  },
  {
   "cell_type": "markdown",
   "metadata": {},
   "source": [
    "Now let's apply this prediction to the whole training dataset and create a new column for the prediction (this might take a little while to run):"
   ]
  },
  {
   "cell_type": "code",
   "execution_count": 94,
   "metadata": {},
   "outputs": [],
   "source": [
    "df_train['prediction'] = df_train['tokens'].apply(predict)"
   ]
  },
  {
   "cell_type": "markdown",
   "metadata": {},
   "source": [
    "We can create find out how many we predicted correctly like this:"
   ]
  },
  {
   "cell_type": "code",
   "execution_count": 99,
   "metadata": {},
   "outputs": [
    {
     "data": {
      "text/plain": [
       "14360"
      ]
     },
     "execution_count": 99,
     "metadata": {},
     "output_type": "execute_result"
    }
   ],
   "source": [
    "correct = df_train[df_train['sentiment'] == df_train['prediction']]\n",
    "len(correct)"
   ]
  },
  {
   "cell_type": "markdown",
   "metadata": {},
   "source": [
    "And here's our accuracy (percentage correct):"
   ]
  },
  {
   "cell_type": "code",
   "execution_count": 100,
   "metadata": {},
   "outputs": [
    {
     "data": {
      "text/plain": [
       "0.7977777777777778"
      ]
     },
     "execution_count": 100,
     "metadata": {},
     "output_type": "execute_result"
    }
   ],
   "source": [
    "len(correct)/len(df_train)"
   ]
  },
  {
   "cell_type": "markdown",
   "metadata": {},
   "source": [
    "That's not bad. It's a lot better than guessing randomly (which would be around 50% accuracy). "
   ]
  },
  {
   "cell_type": "markdown",
   "metadata": {},
   "source": [
    "But that's with the training set. Let's try it on the test set, which hasn't been seen yet:"
   ]
  },
  {
   "cell_type": "code",
   "execution_count": 102,
   "metadata": {},
   "outputs": [],
   "source": [
    "df_test['tokens'] = df_test['description'].apply(tokenize)"
   ]
  },
  {
   "cell_type": "code",
   "execution_count": 104,
   "metadata": {},
   "outputs": [],
   "source": [
    "df_test['prediction'] = df_test['tokens'].apply(predict)"
   ]
  },
  {
   "cell_type": "code",
   "execution_count": 105,
   "metadata": {},
   "outputs": [
    {
     "data": {
      "text/plain": [
       "1544"
      ]
     },
     "execution_count": 105,
     "metadata": {},
     "output_type": "execute_result"
    }
   ],
   "source": [
    "correct = df_test[df_test['sentiment'] == df_test['prediction']]\n",
    "len(correct)"
   ]
  },
  {
   "cell_type": "code",
   "execution_count": 106,
   "metadata": {},
   "outputs": [
    {
     "data": {
      "text/plain": [
       "0.772"
      ]
     },
     "execution_count": 106,
     "metadata": {},
     "output_type": "execute_result"
    }
   ],
   "source": [
    "len(correct)/len(df_test)"
   ]
  },
  {
   "cell_type": "markdown",
   "metadata": {},
   "source": [
    "It looks like even on data the algorithm hasn't seen yet, it can still predict almost as well as with the training set."
   ]
  },
  {
   "cell_type": "markdown",
   "metadata": {},
   "source": [
    "Can we improve the accuracy overall?"
   ]
  },
  {
   "cell_type": "markdown",
   "metadata": {},
   "source": [
    "Right now, every word in the review is contributing to its prediction score. But most of the words don't tell us much about the sentiment, and so are probably just noise. We need to focus on the signal of the most important words in the review."
   ]
  },
  {
   "cell_type": "markdown",
   "metadata": {},
   "source": [
    "What if we only had the highly positive and highly negative words influence the prediction?"
   ]
  },
  {
   "cell_type": "markdown",
   "metadata": {},
   "source": [
    "Let's create a subset of the tokens dataframe with only the most strongly positive and negative tokens:"
   ]
  },
  {
   "cell_type": "code",
   "execution_count": 136,
   "metadata": {},
   "outputs": [],
   "source": [
    "strength = 2.8\n",
    "df_strong = df_tokens[abs(df_tokens['positivity']) > strength]"
   ]
  },
  {
   "cell_type": "code",
   "execution_count": 137,
   "metadata": {},
   "outputs": [],
   "source": [
    "def predict(tokens):\n",
    "    score = df_strong[df_strong['token'].isin(tokens)]['positivity'].mean()\n",
    "    return 1 if score > 0 else 0"
   ]
  },
  {
   "cell_type": "code",
   "execution_count": 141,
   "metadata": {},
   "outputs": [
    {
     "data": {
      "text/plain": [
       "0.9568888888888889"
      ]
     },
     "execution_count": 141,
     "metadata": {},
     "output_type": "execute_result"
    }
   ],
   "source": [
    "df_train['prediction'] = df_train['tokens'].apply(predict)\n",
    "correct = df_train[df_train['sentiment'] == df_train['prediction']]\n",
    "len(correct)/len(df_train)"
   ]
  },
  {
   "cell_type": "code",
   "execution_count": 138,
   "metadata": {},
   "outputs": [],
   "source": [
    "df_test['prediction'] = df_test['tokens'].apply(predict)"
   ]
  },
  {
   "cell_type": "code",
   "execution_count": 139,
   "metadata": {},
   "outputs": [
    {
     "data": {
      "text/plain": [
       "0.953"
      ]
     },
     "execution_count": 139,
     "metadata": {},
     "output_type": "execute_result"
    }
   ],
   "source": [
    "correct = df_test[df_test['sentiment'] == df_test['prediction']]\n",
    "len(correct)/len(df_test)"
   ]
  },
  {
   "cell_type": "markdown",
   "metadata": {},
   "source": [
    "This is doing much better than before. I figured out a good setting for 'strength' by trying out multiple values, just by trial and error. It shows that a single setting like this can have a huge impact on a prediction algorithm. "
   ]
  }
 ],
 "metadata": {
  "kernelspec": {
   "display_name": "Python 3",
   "language": "python",
   "name": "python3"
  },
  "language_info": {
   "codemirror_mode": {
    "name": "ipython",
    "version": 3
   },
   "file_extension": ".py",
   "mimetype": "text/x-python",
   "name": "python",
   "nbconvert_exporter": "python",
   "pygments_lexer": "ipython3",
   "version": "3.7.2"
  }
 },
 "nbformat": 4,
 "nbformat_minor": 2
}
